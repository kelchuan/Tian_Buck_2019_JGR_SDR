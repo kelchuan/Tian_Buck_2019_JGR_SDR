{
 "cells": [
  {
   "cell_type": "markdown",
   "metadata": {},
   "source": [
    "### This grid search for searching the best fit Te to fit the data composed of following sections:\n",
    "One. Input parameters \n",
    "\n",
    "Two. getting data from FLAC models\n",
    "\n",
    "Three. calculating misfit"
   ]
  },
  {
   "cell_type": "code",
   "execution_count": 1,
   "metadata": {
    "collapsed": true
   },
   "outputs": [],
   "source": [
    "import os\n",
    "import numpy as np\n",
    "import math \n",
    "import matplotlib.pyplot as plt"
   ]
  },
  {
   "cell_type": "code",
   "execution_count": 4,
   "metadata": {
    "collapsed": true
   },
   "outputs": [],
   "source": [
    "#----------------\n",
    "#One Input parameters\n",
    "#----------------\n",
    "\n",
    "#----------------------------\n",
    "# 1. for getting FLAC data\n",
    "#----------------------------\n",
    "Plate_thickness = \"15\"     # Hd in the model\n",
    "particle_number = \"12\"     # which SDR particle\n",
    "#----------------------------\n",
    "# 2. FLAC model parameters\n",
    "#----------------------------\n",
    "num_particles = 600        #number of particles for each SDR\n",
    "time_steps = 800           #total FLAC model steps\n",
    "dt_step = 20.*1000 #[yr] FLAC time step for data output\n",
    "yr_in_Myr = 10.**6 #[yr]\n",
    "Time_compare = 1 # [Myr]\n",
    "time_data_comparison = Time_compare * yr_in_Myr \n",
    "#[yr]  compare data at 1 Myr  (relative time, for SDR 10 at 10Myr is when it experience 1Myr of load)\n",
    "TIME = int(particle_number) + Time_compare - 1 \n",
    "#[Myr] for FLAC (e.g. for SDR7 that experienced 10km extension, put TIME=7 here)\n",
    "steps = int(TIME * yr_in_Myr / dt_step) # the step in FLAC correspond to time_data_comparison\n",
    "#----------------------------\n",
    "# 3. data comparison\n",
    "#----------------------------\n",
    "vx = 1 / 100. #[m/yr] Half extension rate\n",
    "x0 = time_data_comparison * vx  \n",
    "#----------------------------\n",
    "# 4. NTP parameters\n",
    "#----------------------------\n",
    "Length = 200000;             #[m] total length \n",
    "N = 2001;               # number of node points\n",
    "x = np.linspace(0, Length, N);  #[m] initialize the x array\n",
    "dx = Length / (N - 1);       #[m] distance between node points\n",
    "#----------------------------\n",
    "# 5. grid search parameters\n",
    "#----------------------------\n",
    "# 5.1 prepare the list for funtion arguments\n",
    "Te_max = 20000.;\n",
    "Te_min = 100.;\n",
    "N_Te = 200;     #number of points for Te\n",
    "Te_array = np.linspace(Te_min, Te_max, N_Te);              #[m] effective plate thickness\n",
    "#Hd_array = np.array([5000.,8000.,10000.,13000.,15000.,18000.,20000.]);  #[m] height of the dike\n",
    "Hd_array = np.array([float(Plate_thickness)*1000.]);  #[m] height of the dike\n",
    "N_Hd = len(Hd_array)\n",
    "\n",
    "list_arg = []\n",
    "for item in Hd_array:\n",
    "    for jtem in Te_array:\n",
    "        if jtem <= item:\n",
    "            list_arg.append((item,jtem))\n",
    "# 5.2 prepare the parallel tools\n",
    "import multiprocessing\n",
    "def multi_run_wrapper(args):\n",
    "   return function(*args)"
   ]
  },
  {
   "cell_type": "code",
   "execution_count": 5,
   "metadata": {},
   "outputs": [
    {
     "name": "stdout",
     "output_type": "stream",
     "text": [
      "600\n"
     ]
    }
   ],
   "source": [
    "#Two Get data from FLAC\n",
    "#----------------------------\n",
    "#FLAC_file_path=(\"/Users/Tian/Documents/Thesis\"\n",
    "#                \"/Vts_data/TianHe2/20170920/H\"\n",
    "#                +Plate_thickness)\n",
    "#FLAC_file_path=(\"/Users/Tian/Documents/Thesis\"\n",
    "#                \"/Vts_data/TianHe2/20170920/H\"\n",
    "#                +Plate_thickness+\"-withHealing\")\n",
    "FLAC_file_path=(\"./data/TianHe2/20170920/H\"\n",
    "                +Plate_thickness)\n",
    "script_home_path=(\"../../../../\")\n",
    "\n",
    "\n",
    "FLAC_data = open(FLAC_file_path+\"/particles_\"+particle_number+\".0\",'rb')\n",
    "data = np.fromfile(FLAC_data, dtype=np.single)\n",
    "FLAC_data.close()\n",
    "data_matrix = data.reshape((num_particles, 2, time_steps), order='F')\n",
    "data_matrix_x = data_matrix[:,0,:]\n",
    "data_matrix_y = data_matrix[:,1,:]\n",
    "# fetch useful data at corresponding time\n",
    "print(steps)\n",
    "data_x = data_matrix_x[:,steps]\n",
    "data_y = data_matrix_y[:,steps]"
   ]
  },
  {
   "cell_type": "code",
   "execution_count": 6,
   "metadata": {
    "collapsed": true
   },
   "outputs": [],
   "source": [
    "#----------------------------\n",
    "# Three calculating misft\n",
    "#----------------------------"
   ]
  },
  {
   "cell_type": "code",
   "execution_count": 7,
   "metadata": {
    "collapsed": true
   },
   "outputs": [],
   "source": [
    "# function for integrating w from one load to SDR profile\n",
    "def integrate_SDR(fNTP, a, b, dx):\n",
    "    an = int(a/dx)\n",
    "    bn = int(b/dx)\n",
    "    SDR_NTP =  np.sum(fNTP[an:bn])\n",
    "    SDR_NTP /= 1000. # convert meter to km\n",
    "    return SDR_NTP"
   ]
  },
  {
   "cell_type": "code",
   "execution_count": 8,
   "metadata": {
    "collapsed": true
   },
   "outputs": [],
   "source": [
    "def function(Hd,Te):\n",
    "    # getting SDR profile due to one load from Te library\n",
    "    Hd = Hd/1000\n",
    "    Te = Te/1000\n",
    "    Te_lib_path = \"./Te-library-dx100\"\n",
    "    file_in = open(Te_lib_path+\"/Hd_{}_Te_{}.txt\".format(Hd,Te),'r')\n",
    "\n",
    "    NTP = []   #initialize the array for Numerical thin plate due to one load\n",
    "    for line in file_in:\n",
    "        temp=line.split(',')\n",
    "    NTP.append([float(item) for item in temp[:-1]])\n",
    "    file_in.close()\n",
    "    #polyfit the NTP\n",
    "    deg_fit = 16\n",
    "    p = np.polyfit(x,NTP[0][:],deg_fit)\n",
    "    fNTP = np.polyval(p,x)\n",
    "    # calculating SDR profile by integrating the fNTP(one load)\n",
    "    SDR_NTP = []\n",
    "    for i in range(len(data_x)):\n",
    "        SDR_NTP.append(\n",
    "            integrate_SDR(\n",
    "                fNTP, \n",
    "                data_x[i] * 1000 - x0,\n",
    "                data_x[i] * 1000,\n",
    "                dx))\n",
    "    #misfit = np.sum(np.abs(SDR_NTP - data_y))\n",
    "    misfit = np.sqrt(np.sum((SDR_NTP - data_y)**2.0))\n",
    "    misfit_avg = misfit / len(data_y)\n",
    "    print(\"Hd={} Te={} misfit_avg={}\".format(Hd,Te,misfit_avg))\n",
    "    return Hd, Te, misfit_avg"
   ]
  },
  {
   "cell_type": "code",
   "execution_count": 9,
   "metadata": {},
   "outputs": [
    {
     "name": "stdout",
     "output_type": "stream",
     "text": [
      "Hd=15.0 Te=1.1 misfit_avg=0.08033028656290155\n",
      "Hd=15.0 Te=2.1 misfit_avg=0.0724373351367203\n",
      "Hd=15.0 Te=3.1 misfit_avg=0.06111036711751432\n",
      "Hd=15.0 Te=0.1 misfit_avg=0.07469889009675386\n",
      "Hd=15.0 Te=1.2 misfit_avg=0.08018824114271268\n",
      "Hd=15.0 Te=3.2 misfit_avg=0.06002699451848336\n",
      "Hd=15.0 Te=0.2 misfit_avg=0.06431287489258665\n",
      "Hd=15.0 Te=2.2 misfit_avg=0.07130295417675651\n",
      "Hd=15.0 Te=3.3 misfit_avg=0.05895812736749118\n",
      "Hd=15.0 Te=2.3 misfit_avg=0.07015831583433253\n",
      "Hd=15.0 Te=1.3 misfit_avg=0.07980036570044907\n",
      "Hd=15.0 Te=0.3 misfit_avg=0.06699367843104694\n",
      "Hd=15.0 Te=3.4 misfit_avg=0.05790435476687612\n",
      "Hd=15.0 Te=0.4 misfit_avg=0.069858938249651\n",
      "Hd=15.0 Te=1.4 misfit_avg=0.07921953916475745\n",
      "Hd=15.0 Te=2.4 misfit_avg=0.06900878833539471\n",
      "Hd=15.0 Te=3.5 misfit_avg=0.056866104989606245\n",
      "Hd=15.0 Te=0.5 misfit_avg=0.07255463841141925\n",
      "Hd=15.0 Te=1.5 misfit_avg=0.07848824204950876\n",
      "Hd=15.0 Te=2.5 misfit_avg=0.06785896102708171\n",
      "Hd=15.0 Te=0.6 misfit_avg=0.07502206552107779\n",
      "Hd=15.0 Te=3.6 misfit_avg=0.05584375707521227\n",
      "Hd=15.0 Te=1.6 misfit_avg=0.07764074322205522\n",
      "Hd=15.0 Te=2.6 misfit_avg=0.06671237155410412\n",
      "Hd=15.0 Te=3.7 misfit_avg=0.05483734998982874\n",
      "Hd=15.0 Te=1.7 misfit_avg=0.07670424646300861\n",
      "Hd=15.0 Te=0.7 misfit_avg=0.07707159910123466\n",
      "Hd=15.0 Te=3.8 misfit_avg=0.05384702988147397\n",
      "Hd=15.0 Te=2.7 misfit_avg=0.0655718488003029\n",
      "Hd=15.0 Te=0.8 misfit_avg=0.07860020989595862\n",
      "Hd=15.0 Te=1.8 misfit_avg=0.07570009356928707\n",
      "Hd=15.0 Te=3.9 misfit_avg=0.0528729109858647\n",
      "Hd=15.0 Te=2.8 misfit_avg=0.06443970553109037\n",
      "Hd=15.0 Te=0.9 misfit_avg=0.07961111681354473\n",
      "Hd=15.0 Te=1.9 misfit_avg=0.07464564122609461\n",
      "Hd=15.0 Te=2.9 misfit_avg=0.06331783087295037\n",
      "Hd=15.0 Te=4.0 misfit_avg=0.05191495741029505\n",
      "Hd=15.0 Te=2.0 misfit_avg=0.0735543968135122\n",
      "Hd=15.0 Te=1.0 misfit_avg=0.08016219522615799\n",
      "Hd=15.0 Te=3.0 misfit_avg=0.06220765957306193\n",
      "Hd=15.0 Te=4.1 misfit_avg=0.05097308675489623\n",
      "Hd=15.0 Te=6.1 misfit_avg=0.03523888445722319\n",
      "Hd=15.0 Te=5.1 misfit_avg=0.04240496979578453\n",
      "Hd=15.0 Te=4.2 misfit_avg=0.05004715231930503\n",
      "Hd=15.0 Te=7.1 misfit_avg=0.029280174101082135\n",
      "Hd=15.0 Te=6.2 misfit_avg=0.034591424323797915\n",
      "Hd=15.0 Te=5.2 misfit_avg=0.04162895716165252\n",
      "Hd=15.0 Te=7.2 misfit_avg=0.028745060343316038\n",
      "Hd=15.0 Te=4.3 misfit_avg=0.04913725435069617\n",
      "Hd=15.0 Te=5.3 misfit_avg=0.04086646059838737\n",
      "Hd=15.0 Te=6.3 misfit_avg=0.03395570073108627\n",
      "Hd=15.0 Te=4.4 misfit_avg=0.04824280611549833\n",
      "Hd=15.0 Te=7.3 misfit_avg=0.02822023019942261\n",
      "Hd=15.0 Te=5.4 misfit_avg=0.04011785744080808\n",
      "Hd=15.0 Te=6.4 misfit_avg=0.03333201324977356\n",
      "Hd=15.0 Te=4.5 misfit_avg=0.04736390097659596\n",
      "Hd=15.0 Te=7.4 misfit_avg=0.027706359276434334\n",
      "Hd=15.0 Te=5.5 misfit_avg=0.03938247104904362\n",
      "Hd=15.0 Te=6.5 misfit_avg=0.032719736656500596\n",
      "Hd=15.0 Te=4.6 misfit_avg=0.046500488905970416\n",
      "Hd=15.0 Te=7.5 misfit_avg=0.027202675308686506\n",
      "Hd=15.0 Te=5.6 misfit_avg=0.038660231333055683\n",
      "Hd=15.0 Te=6.6 misfit_avg=0.032118600898830035\n",
      "Hd=15.0 Te=4.7 misfit_avg=0.0456519006407812\n",
      "Hd=15.0 Te=7.6 misfit_avg=0.026709151065032043\n",
      "Hd=15.0 Te=5.7 misfit_avg=0.03795077871468618\n",
      "Hd=15.0 Te=4.8 misfit_avg=0.044818426623033744\n",
      "Hd=15.0 Te=6.7 misfit_avg=0.03152923194138835\n",
      "Hd=15.0 Te=7.7 misfit_avg=0.0262257814147373\n",
      "Hd=15.0 Te=6.8 misfit_avg=0.030950638819391217\n",
      "Hd=15.0 Te=4.9 misfit_avg=0.043999559839856324\n",
      "Hd=15.0 Te=5.8 misfit_avg=0.037254131000928635\n",
      "Hd=15.0 Te=7.8 misfit_avg=0.025752352152250094\n",
      "Hd=15.0 Te=6.9 misfit_avg=0.030382996116042834\n",
      "Hd=15.0 Te=5.0 misfit_avg=0.04319523015007483\n",
      "Hd=15.0 Te=5.9 misfit_avg=0.03657002241444644\n",
      "Hd=15.0 Te=7.9 misfit_avg=0.02528934690224932\n",
      "Hd=15.0 Te=8.1 misfit_avg=0.02439361699736844\n",
      "Hd=15.0 Te=6.0 misfit_avg=0.03589842022037192\n",
      "Hd=15.0 Te=7.0 misfit_avg=0.02982643059088357\n",
      "Hd=15.0 Te=8.0 misfit_avg=0.02483610449464699\n",
      "Hd=15.0 Te=10.1 misfit_avg=0.01749095216892673\n",
      "Hd=15.0 Te=8.2 misfit_avg=0.023960157747491526\n",
      "Hd=15.0 Te=9.1 misfit_avg=0.02048768879705878\n",
      "Hd=15.0 Te=11.1 misfit_avg=0.015345646960044783\n",
      "Hd=15.0 Te=10.2 misfit_avg=0.017239192996467086\n",
      "Hd=15.0 Te=8.3 misfit_avg=0.023535682102629418\n",
      "Hd=15.0 Te=9.2 misfit_avg=0.020148688966701956\n",
      "Hd=15.0 Te=11.2 misfit_avg=0.015174403871526172\n",
      "Hd=15.0 Te=10.3 misfit_avg=0.01699508823564217\n",
      "Hd=15.0 Te=8.4 misfit_avg=0.02312199433410499\n",
      "Hd=15.0 Te=9.3 misfit_avg=0.01981783362767681\n",
      "Hd=15.0 Te=11.3 misfit_avg=0.015014478481945082\n",
      "Hd=15.0 Te=10.4 misfit_avg=0.016759350687270913\n",
      "Hd=15.0 Te=8.5 misfit_avg=0.022717880953453982\n",
      "Hd=15.0 Te=9.4 misfit_avg=0.019496470004084183\n",
      "Hd=15.0 Te=11.4 misfit_avg=0.014859454412103169\n",
      "Hd=15.0 Te=8.6 misfit_avg=0.02232248033513461\n",
      "Hd=15.0 Te=10.5 misfit_avg=0.016532787474301976\n",
      "Hd=15.0 Te=9.5 misfit_avg=0.019184376062459374\n",
      "Hd=15.0 Te=11.5 misfit_avg=0.014716183418426324\n",
      "Hd=15.0 Te=8.7 misfit_avg=0.02193669932547153\n",
      "Hd=15.0 Te=10.6 misfit_avg=0.016313858308772886\n",
      "Hd=15.0 Te=9.6 misfit_avg=0.018881912559584654\n",
      "Hd=15.0 Te=11.6 misfit_avg=0.014581707241197662\n",
      "Hd=15.0 Te=8.8 misfit_avg=0.021560818922939554\n",
      "Hd=15.0 Te=10.7 misfit_avg=0.016104053460460933\n",
      "Hd=15.0 Te=9.7 misfit_avg=0.018585688757272942\n",
      "Hd=15.0 Te=11.7 misfit_avg=0.014453169180320255\n",
      "Hd=15.0 Te=8.9 misfit_avg=0.021193959405716674\n",
      "Hd=15.0 Te=10.8 misfit_avg=0.015902274207736565\n",
      "Hd=15.0 Te=9.8 misfit_avg=0.018300479272667685\n",
      "Hd=15.0 Te=9.0 misfit_avg=0.020837281396634138\n",
      "Hd=15.0 Te=11.8 misfit_avg=0.014330953934860951\n",
      "Hd=15.0 Te=10.9 misfit_avg=0.015707653517850972\n",
      "Hd=15.0 Te=11.9 misfit_avg=0.014219518009411474\n",
      "Hd=15.0 Te=12.1 misfit_avg=0.01402203904579428\n",
      "Hd=15.0 Te=9.9 misfit_avg=0.018021615286223768\n",
      "Hd=15.0 Te=11.0 misfit_avg=0.015522264264128378\n",
      "Hd=15.0 Te=12.0 misfit_avg=0.014116157577894792\n",
      "Hd=15.0 Te=12.2 misfit_avg=0.01393479653065028\n",
      "Hd=15.0 Te=10.0 misfit_avg=0.017752603730385376\n",
      "Hd=15.0 Te=13.1 misfit_avg=0.013502046190136407\n",
      "Hd=15.0 Te=14.1 misfit_avg=0.013671755172094594\n",
      "Hd=15.0 Te=12.3 misfit_avg=0.013855583717037314\n",
      "Hd=15.0 Te=13.2 misfit_avg=0.013492009999282002\n",
      "Hd=15.0 Te=12.4 misfit_avg=0.013781933046845489\n",
      "Hd=15.0 Te=14.2 misfit_avg=0.0137115432450261\n",
      "Hd=15.0 Te=13.3 misfit_avg=0.013489244568377093\n",
      "Hd=15.0 Te=12.5 misfit_avg=0.013719659408078894\n",
      "Hd=15.0 Te=14.3 misfit_avg=0.013759842182298861\n",
      "Hd=15.0 Te=13.4 misfit_avg=0.01349201178876779\n",
      "Hd=15.0 Te=12.6 misfit_avg=0.013666384305797887\n",
      "Hd=15.0 Te=14.4 misfit_avg=0.013809798999590098\n",
      "Hd=15.0 Te=13.5 misfit_avg=0.0135027927220114\n",
      "Hd=15.0 Te=12.7 misfit_avg=0.013615916068697524\n",
      "Hd=15.0 Te=14.5 misfit_avg=0.013865138399659678\n",
      "Hd=15.0 Te=13.6 misfit_avg=0.013515101136948026\n",
      "Hd=15.0 Te=14.6 misfit_avg=0.013919191103928093\n",
      "Hd=15.0 Te=12.8 misfit_avg=0.013578345954667483\n",
      "Hd=15.0 Te=13.7 misfit_avg=0.013536503076569124\n",
      "Hd=15.0 Te=14.7 misfit_avg=0.01397546202156706\n",
      "Hd=15.0 Te=12.9 misfit_avg=0.013547548327321962\n",
      "Hd=15.0 Te=13.8 misfit_avg=0.013565050560666233\n",
      "Hd=15.0 Te=13.0 misfit_avg=0.013521288877960927\n",
      "Hd=15.0 Te=14.8 misfit_avg=0.014032925004772495\n",
      "Hd=15.0 Te=13.9 misfit_avg=0.01359430559205227\n",
      "Hd=15.0 Te=14.9 misfit_avg=0.014089951838863902\n",
      "Hd=15.0 Te=14.0 misfit_avg=0.013632134488667808\n",
      "Hd=15.0 Te=15.0 misfit_avg=0.014150774611660071\n"
     ]
    }
   ],
   "source": [
    "if __name__ == \"__main__\":\n",
    "    from multiprocessing import Pool\n",
    "    pool = Pool(4)\n",
    "    list_misfit_avg = []\n",
    "    list_misfit_avg.append(pool.map(multi_run_wrapper,list_arg))"
   ]
  },
  {
   "cell_type": "code",
   "execution_count": 10,
   "metadata": {
    "collapsed": true
   },
   "outputs": [],
   "source": [
    "# get the list of Te and misfit\n",
    "list_Te = []\n",
    "list_misfit = []\n",
    "for i in range(len(list_arg)):\n",
    "    list_Te.append(list_misfit_avg[0][i][1])\n",
    "    list_misfit.append(list_misfit_avg[0][i][2])"
   ]
  },
  {
   "cell_type": "code",
   "execution_count": 11,
   "metadata": {
    "collapsed": true
   },
   "outputs": [],
   "source": [
    "# find the index for the minimum misfit\n",
    "val, idx = min((val, idx) for (idx, val) in enumerate(list_misfit))\n",
    "best_fit_Te = list_Te[idx]\n",
    "best_fit_misfit = list_misfit[idx]"
   ]
  },
  {
   "cell_type": "code",
   "execution_count": 12,
   "metadata": {},
   "outputs": [
    {
     "name": "stdout",
     "output_type": "stream",
     "text": [
      "The best fit Te for Hd = 15.0 km is 13.3 km, the misfit is 0.013 km\n"
     ]
    },
    {
     "data": {
      "image/png": "[encoded data removed]",
      "text/plain": [
       "<matplotlib.figure.Figure at 0x10f529630>"
      ]
     },
     "metadata": {},
     "output_type": "display_data"
    }
   ],
   "source": [
    "fig = plt.gcf()\n",
    "fig.set_size_inches(12, 8)\n",
    "plt.plot(list_Te,list_misfit,'b')\n",
    "plt.scatter(list_Te[idx],list_misfit[idx],s=60,c='r')\n",
    "print(\"The best fit Te for Hd = {} km is {} km, the misfit is {:.3f} km\".\n",
    "      format(list_arg[0][0]/1000,best_fit_Te,best_fit_misfit))\n",
    "plt.title(\"average misfit vs. Te\")\n",
    "plt.xlabel(\"Te [km]\")\n",
    "plt.ylabel(\"Average misfit [km]\")\n",
    "plt.grid(True)\n",
    "plt.show()\n",
    "os.chdir(FLAC_file_path)\n",
    "fig.savefig(\"H{}SDR{}TIME{}_L2.pdf\".format(Plate_thickness,particle_number,TIME))"
   ]
  },
  {
   "cell_type": "code",
   "execution_count": 13,
   "metadata": {},
   "outputs": [
    {
     "name": "stdout",
     "output_type": "stream",
     "text": [
      "FDM_setup.m                         SDR_misfit_plot.m\r\n",
      "H15.inp                             \u001b[34mVTK-data\u001b[m\u001b[m\r\n",
      "H15SDR02TIME2.pdf                   distributed_q.m\r\n",
      "H15SDR02TIME2_L2.pdf                main.m\r\n",
      "H15SDR02TIME2_NTP_comparison.pdf    nxnz.0\r\n",
      "H15SDR02TIME2_NTP_comparison_L2.pdf particles_01.0\r\n",
      "H15SDR04TIME4.pdf                   particles_02.0\r\n",
      "H15SDR04TIME4_L2.pdf                particles_03.0\r\n",
      "H15SDR04TIME4_NTP_comparison.pdf    particles_04.0\r\n",
      "H15SDR04TIME4_NTP_comparison_L2.pdf particles_05.0\r\n",
      "H15SDR05TIME5_L2.pdf                particles_06.0\r\n",
      "H15SDR06TIME6.pdf                   particles_07.0\r\n",
      "H15SDR06TIME6_L2.pdf                particles_08.0\r\n",
      "H15SDR06TIME6_NTP_comparison.pdf    particles_09.0\r\n",
      "H15SDR06TIME6_NTP_comparison_L2.pdf particles_10.0\r\n",
      "H15SDR08TIME8.pdf                   particles_11.0\r\n",
      "H15SDR08TIME8_L2.pdf                particles_12.0\r\n",
      "H15SDR08TIME8_NTP_comparison.pdf    particles_13.0\r\n",
      "H15SDR08TIME8_NTP_comparison_L2.pdf particles_14.0\r\n",
      "H15SDR10TIME10.pdf                  particles_15.0\r\n",
      "H15SDR10TIME10_NTP_comparison.pdf   particles_16.0\r\n",
      "H15SDR12TIME12.pdf                  plot_particles_multi.m\r\n",
      "H15SDR12TIME12_L2.pdf               plotting_final_results.m\r\n",
      "H15SDR12TIME12_NTP_comparison.pdf   semi_analytic_init.m\r\n",
      "SDR_get_data.m                      semi_analytic_results.m\r\n",
      "SDR_load_data.m                     time.0\r\n",
      "SDR_misfit.m\r\n"
     ]
    }
   ],
   "source": [
    "!ls"
   ]
  },
  {
   "cell_type": "code",
   "execution_count": 14,
   "metadata": {},
   "outputs": [
    {
     "name": "stdout",
     "output_type": "stream",
     "text": [
      "/Volumes/Kelvin_2017/Thesis_Columbia/My_papers/Tian-Buck-2019-JGR-SDR_lithospheric_thickness/1Codes/Python_SDR/SDR_Te_inversion_grid_search/data/TianHe2/20170920/H15\r\n"
     ]
    }
   ],
   "source": [
    "!pwd"
   ]
  },
  {
   "cell_type": "code",
   "execution_count": 15,
   "metadata": {},
   "outputs": [],
   "source": [
    "!open H15SDR12TIME12_L2.pdf"
   ]
  },
  {
   "cell_type": "markdown",
   "metadata": {},
   "source": [
    "# getting data from Te library\n",
    "Hd = 10.0\n",
    "Te = 8.0\n",
    "Te_lib_path = \"/Users/Tian/Documents/Thesis/Vts_data/TianHe2/20170920/python-scripts/Te-library-dx100/\"\n",
    "file_in = open(Te_lib_path+\"/Hd_{}_Te_{}.txt\".format(Hd,Te),'r')\n",
    "\n",
    "NTP = []   #initialize the array for Numerical thin plate due to one load\n",
    "for line in file_in:\n",
    "    temp=line.split(',')\n",
    "NTP.append([float(item) for item in temp[:-1]])\n",
    "file_in.close()\n",
    "#polyfit the NTP\n",
    "deg_fit = 16\n",
    "p = np.polyfit(x,NTP[0][:],deg_fit)\n",
    "fNTP = np.polyval(p,x)"
   ]
  },
  {
   "cell_type": "markdown",
   "metadata": {},
   "source": [
    "SDR_NTP = []\n",
    "for i in range(len(data_x)):\n",
    "    SDR_NTP.append(\n",
    "        integrate_SDR(\n",
    "            fNTP, \n",
    "            data_x * 1000 - x0,\n",
    "            data_x * 1000,\n",
    "            dx))"
   ]
  },
  {
   "cell_type": "code",
   "execution_count": 20,
   "metadata": {
    "collapsed": true
   },
   "outputs": [],
   "source": [
    "def func_plot_NTP_fit(Hd,Te):\n",
    "    # getting SDR profile due to one load from Te library\n",
    "    Hd = Hd/1000\n",
    "    Te_lib_path = \"./Te-library-dx100\"\n",
    "    file_in = open(Te_lib_path+\"/Hd_{}_Te_{}.txt\".format(Hd,Te),'r')\n",
    "\n",
    "    NTP = []   #initialize the array for Numerical thin plate due to one load\n",
    "    for line in file_in:\n",
    "        temp=line.split(',')\n",
    "    NTP.append([float(item) for item in temp[:-1]])\n",
    "    file_in.close()\n",
    "    #polyfit the NTP\n",
    "    deg_fit = 16\n",
    "    p = np.polyfit(x,NTP[0][:],deg_fit)\n",
    "    fNTP = np.polyval(p,x)\n",
    "    # calculating SDR profile by integrating the fNTP(one load)\n",
    "    SDR_NTP = []\n",
    "    for i in range(len(data_x)):\n",
    "        SDR_NTP.append(\n",
    "            integrate_SDR(\n",
    "                fNTP, \n",
    "                data_x[i] * 1000 - x0,\n",
    "                data_x[i] * 1000,\n",
    "                dx))\n",
    "    return SDR_NTP"
   ]
  },
  {
   "cell_type": "code",
   "execution_count": 22,
   "metadata": {},
   "outputs": [
    {
     "name": "stdout",
     "output_type": "stream",
     "text": [
      "/Volumes/Kelvin_2017/Thesis_Columbia/My_papers/Tian-Buck-2019-JGR-SDR_lithospheric_thickness/1Codes/Python_SDR/SDR_Te_inversion_grid_search/data/TianHe2/20170920/H15\r\n"
     ]
    }
   ],
   "source": [
    "!pwd"
   ]
  },
  {
   "cell_type": "code",
   "execution_count": 21,
   "metadata": {},
   "outputs": [
    {
     "ename": "FileNotFoundError",
     "evalue": "[Errno 2] No such file or directory: './Te-library-dx100/Hd_15.0_Te_13.3.txt'",
     "output_type": "error",
     "traceback": [
      "\u001b[0;31m---------------------------------------------------------------------------\u001b[0m",
      "\u001b[0;31mFileNotFoundError\u001b[0m                         Traceback (most recent call last)",
      "\u001b[0;32m<ipython-input-21-0ede6c8daef0>\u001b[0m in \u001b[0;36m<module>\u001b[0;34m()\u001b[0m\n\u001b[1;32m      4\u001b[0m \u001b[0mfig\u001b[0m\u001b[0;34m.\u001b[0m\u001b[0mset_size_inches\u001b[0m\u001b[0;34m(\u001b[0m\u001b[0;36m24\u001b[0m\u001b[0;34m,\u001b[0m \u001b[0;36m1\u001b[0m\u001b[0;34m*\u001b[0m\u001b[0mVE\u001b[0m\u001b[0;34m)\u001b[0m\u001b[0;34m\u001b[0m\u001b[0m\n\u001b[1;32m      5\u001b[0m \u001b[0;34m\u001b[0m\u001b[0m\n\u001b[0;32m----> 6\u001b[0;31m \u001b[0mSDR_NTP\u001b[0m \u001b[0;34m=\u001b[0m \u001b[0mfunc_plot_NTP_fit\u001b[0m\u001b[0;34m(\u001b[0m\u001b[0mlist_arg\u001b[0m\u001b[0;34m[\u001b[0m\u001b[0;36m0\u001b[0m\u001b[0;34m]\u001b[0m\u001b[0;34m[\u001b[0m\u001b[0;36m0\u001b[0m\u001b[0;34m]\u001b[0m\u001b[0;34m,\u001b[0m\u001b[0mbest_fit_Te\u001b[0m\u001b[0;34m)\u001b[0m\u001b[0;34m\u001b[0m\u001b[0m\n\u001b[0m\u001b[1;32m      7\u001b[0m \u001b[0;31m#SDR_NTP = func_plot_NTP_fit(list_arg[0][0],13.0)\u001b[0m\u001b[0;34m\u001b[0m\u001b[0;34m\u001b[0m\u001b[0m\n\u001b[1;32m      8\u001b[0m \u001b[0mplt\u001b[0m\u001b[0;34m.\u001b[0m\u001b[0mplot\u001b[0m\u001b[0;34m(\u001b[0m\u001b[0mdata_x\u001b[0m\u001b[0;34m,\u001b[0m\u001b[0mdata_y\u001b[0m\u001b[0;34m,\u001b[0m\u001b[0;34m'k+'\u001b[0m\u001b[0;34m)\u001b[0m\u001b[0;34m\u001b[0m\u001b[0m\n",
      "\u001b[0;32m<ipython-input-20-53b33c3d1e14>\u001b[0m in \u001b[0;36mfunc_plot_NTP_fit\u001b[0;34m(Hd, Te)\u001b[0m\n\u001b[1;32m      3\u001b[0m     \u001b[0mHd\u001b[0m \u001b[0;34m=\u001b[0m \u001b[0mHd\u001b[0m\u001b[0;34m/\u001b[0m\u001b[0;36m1000\u001b[0m\u001b[0;34m\u001b[0m\u001b[0m\n\u001b[1;32m      4\u001b[0m     \u001b[0mTe_lib_path\u001b[0m \u001b[0;34m=\u001b[0m \u001b[0;34m\"./Te-library-dx100\"\u001b[0m\u001b[0;34m\u001b[0m\u001b[0m\n\u001b[0;32m----> 5\u001b[0;31m     \u001b[0mfile_in\u001b[0m \u001b[0;34m=\u001b[0m \u001b[0mopen\u001b[0m\u001b[0;34m(\u001b[0m\u001b[0mTe_lib_path\u001b[0m\u001b[0;34m+\u001b[0m\u001b[0;34m\"/Hd_{}_Te_{}.txt\"\u001b[0m\u001b[0;34m.\u001b[0m\u001b[0mformat\u001b[0m\u001b[0;34m(\u001b[0m\u001b[0mHd\u001b[0m\u001b[0;34m,\u001b[0m\u001b[0mTe\u001b[0m\u001b[0;34m)\u001b[0m\u001b[0;34m,\u001b[0m\u001b[0;34m'r'\u001b[0m\u001b[0;34m)\u001b[0m\u001b[0;34m\u001b[0m\u001b[0m\n\u001b[0m\u001b[1;32m      6\u001b[0m \u001b[0;34m\u001b[0m\u001b[0m\n\u001b[1;32m      7\u001b[0m     \u001b[0mNTP\u001b[0m \u001b[0;34m=\u001b[0m \u001b[0;34m[\u001b[0m\u001b[0;34m]\u001b[0m   \u001b[0;31m#initialize the array for Numerical thin plate due to one load\u001b[0m\u001b[0;34m\u001b[0m\u001b[0m\n",
      "\u001b[0;31mFileNotFoundError\u001b[0m: [Errno 2] No such file or directory: './Te-library-dx100/Hd_15.0_Te_13.3.txt'"
     ]
    }
   ],
   "source": [
    "# Plotting SDR from FLAC overlaping with the best fit NTP\n",
    "fig = plt.gcf()\n",
    "VE = 3\n",
    "fig.set_size_inches(24, 1*VE)\n",
    "\n",
    "SDR_NTP = func_plot_NTP_fit(list_arg[0][0],best_fit_Te)\n",
    "#SDR_NTP = func_plot_NTP_fit(list_arg[0][0],13.0)\n",
    "plt.plot(data_x,data_y,'k+')\n",
    "plt.plot(data_x,SDR_NTP,'r+')\n",
    "plt.title(\"SDR profile with Te={}[km]; Hd={}[km] with\"\n",
    "        \"{}[km] of extension\".format(best_fit_Te, list_arg[0][0]/1000, x0/1000.))\n",
    "plt.xlabel(\"Distance off axis [km]\")\n",
    "plt.ylabel(\"Deflection [km]\")\n",
    "#plt.axes().set_aspect('equal', 'datalim')\n",
    "xmin = 0\n",
    "xmax = 120\n",
    "ymin=-4.8\n",
    "ymax=0.2\n",
    "plt.xlim([xmin,xmax])\n",
    "plt.ylim([ymin,ymax])\n",
    "plt.grid(True)\n",
    "plt.show()\n",
    "os.chdir(FLAC_file_path)\n",
    "fig.savefig(\"H{}SDR{}TIME{}_NTP_comparison_L2.pdf\".format(Plate_thickness,particle_number,TIME))"
   ]
  },
  {
   "cell_type": "code",
   "execution_count": 16,
   "metadata": {},
   "outputs": [
    {
     "name": "stdout",
     "output_type": "stream",
     "text": [
      "H10SDR10TIME10.pdf                particles_08.0\r\n",
      "H10SDR10TIME10_NTP_comparison.pdf particles_09.0\r\n",
      "\u001b[34mVTK-data\u001b[m\u001b[m                          particles_10.0\r\n",
      "particles_01.0                    particles_11.0\r\n",
      "particles_02.0                    particles_12.0\r\n",
      "particles_03.0                    particles_13.0\r\n",
      "particles_04.0                    particles_14.0\r\n",
      "particles_05.0                    particles_15.0\r\n",
      "particles_06.0                    particles_16.0\r\n",
      "particles_07.0\r\n"
     ]
    }
   ],
   "source": [
    "!ls"
   ]
  },
  {
   "cell_type": "code",
   "execution_count": 17,
   "metadata": {
    "collapsed": true
   },
   "outputs": [],
   "source": [
    "!open H10SDR10TIME10_NTP_comparison.pdf"
   ]
  },
  {
   "cell_type": "code",
   "execution_count": 6,
   "metadata": {
    "collapsed": true
   },
   "outputs": [],
   "source": [
    "H = [5,8,10,13,15]\n",
    "Te10 = [4.4,6,7.7,9.2,10]\n",
    "Te8 = [4.2,6,7.2, 8.3, 9]\n",
    "Te6 = [4.4,5.4,5.8,6.9, 7.5]\n",
    "Te4 =[3.3,3.8, 4.3, 5.3, 6.1]\n",
    "Te12 = [4.3, 6.1, 7.1, 9.3, 10.7]\n",
    "\n"
   ]
  },
  {
   "cell_type": "code",
   "execution_count": 16,
   "metadata": {},
   "outputs": [
    {
     "data": {
      "image/png": "[encoded data removed]",
      "text/plain": [
       "<matplotlib.figure.Figure at 0x11d6ea9e8>"
      ]
     },
     "metadata": {},
     "output_type": "display_data"
    }
   ],
   "source": [
    "fig = plt.gcf()\n",
    "fig.set_size_inches(12, 12)\n",
    "figSDR12 ,= plt.plot(H,Te12,'m',label='SDR12@120km extension')\n",
    "plt.scatter(H,Te12,s=60,c='m')\n",
    "figSDR10 ,= plt.plot(H,Te10,'b',label='SDR10@110km extension')\n",
    "plt.scatter(H,Te10,s=60,c='b')\n",
    "figSDR8 ,= plt.plot(H,Te8,'k',label='SDR8@80km extension')\n",
    "plt.scatter(H,Te8,s=60,c='k')\n",
    "figSDR6 ,= plt.plot(H,Te6,'r',label='SDR6@60km extension')\n",
    "plt.scatter(H,Te6,s=60,c='r')\n",
    "figSDR4 ,= plt.plot(H,Te4,'g',label='SDR4@40km extension')\n",
    "plt.scatter(H,Te4,s=60,c='g')\n",
    "figElastic ,= plt.plot(H,H,label='SDR_Elastic')\n",
    "plt.legend(handles=[figSDR12,figSDR10,figSDR8,figSDR6,figSDR4,figElastic],loc=2)\n",
    "plt.xlabel(\"H\")\n",
    "plt.ylabel(\"Te\")\n",
    "plt.grid(True)\n",
    "plt.show()\n",
    "os.chdir(\"/Users/Tian/Documents/Thesis/Vts_data/TianHe2/20170920/python-scripts\")\n",
    "fig.savefig(\"Final results\")"
   ]
  },
  {
   "cell_type": "markdown",
   "metadata": {
    "collapsed": true
   },
   "source": [
    "### "
   ]
  }
 ],
 "metadata": {
  "kernelspec": {
   "display_name": "Python 3",
   "language": "python",
   "name": "python3"
  },
  "language_info": {
   "codemirror_mode": {
    "name": "ipython",
    "version": 3
   },
   "file_extension": ".py",
   "mimetype": "text/x-python",
   "name": "python",
   "nbconvert_exporter": "python",
   "pygments_lexer": "ipython3",
   "version": "3.5.3"
  }
 },
 "nbformat": 4,
 "nbformat_minor": 2
}
