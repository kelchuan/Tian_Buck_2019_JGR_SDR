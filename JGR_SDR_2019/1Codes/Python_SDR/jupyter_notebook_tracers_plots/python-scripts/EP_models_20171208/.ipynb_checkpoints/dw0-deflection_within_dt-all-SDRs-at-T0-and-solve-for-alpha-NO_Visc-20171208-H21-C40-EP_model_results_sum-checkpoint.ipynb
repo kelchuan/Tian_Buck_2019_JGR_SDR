{
 "cells": [
  {
   "cell_type": "code",
   "execution_count": 1,
   "metadata": {
    "collapsed": true
   },
   "outputs": [],
   "source": [
    "import os\n",
    "import numpy as np\n",
    "import math \n",
    "import matplotlib.pyplot as plt"
   ]
  },
  {
   "cell_type": "code",
   "execution_count": 2,
   "metadata": {
    "collapsed": true
   },
   "outputs": [],
   "source": [
    "list_data_x = []\n",
    "list_data_dx = []\n",
    "list_data_dy = []"
   ]
  },
  {
   "cell_type": "code",
   "execution_count": 3,
   "metadata": {
    "collapsed": true
   },
   "outputs": [],
   "source": [
    "N_SDR = 8\n",
    "list_particle_number = []\n",
    "for i in range(1,N_SDR+1):\n",
    "    if i < 10:\n",
    "        list_particle_number.append((\"0\"+str(i)))\n",
    "    else:\n",
    "        list_particle_number.append((str(i)))"
   ]
  },
  {
   "cell_type": "code",
   "execution_count": 4,
   "metadata": {},
   "outputs": [
    {
     "name": "stdout",
     "output_type": "stream",
     "text": [
      "6\n",
      "7\n",
      "55\n",
      "56\n",
      "105\n",
      "106\n",
      "155\n",
      "156\n",
      "205\n",
      "206\n",
      "255\n",
      "256\n",
      "305\n",
      "306\n",
      "355\n",
      "356\n"
     ]
    }
   ],
   "source": [
    "#----------------------------\n",
    "# 2. FLAC model parameters\n",
    "#----------------------------\n",
    "num_particles = 600        #number of particles for each SDR\n",
    "time_steps = 400           #total FLAC model steps\n",
    "dt_step = 20.*1000 #[yr] FLAC time step for data output\n",
    "yr_in_Myr = 10.**6 #[yr]\n",
    "\n",
    "Time_compare = .1 # [Myr]\n",
    "\n",
    "for i in range(N_SDR):\n",
    "    particle_number = list_particle_number[i]\n",
    "\n",
    "    #----------------------------\n",
    "    # 1. for getting FLAC data\n",
    "    #----------------------------\n",
    "    Plate_thickness = \"21\"     # Hd in the model\n",
    "    # particle_number = \"02\"     # which SDR particle\n",
    "    \n",
    "    # Get data from FLAC\n",
    "    #----------------------------\n",
    "    #FLAC_file_path=(\"/Users/Tian/Documents/Thesis/Vts_data/TianHe2/20171208-nodike-high_infill/vts_files/H\"\n",
    "    #                +Plate_thickness+\"C\")\n",
    "    FLAC_file_path=(\"/Volumes/Kelvin_2017/Thesis_Columbia/My_papers/Tian-Buck-2019-JGR-SDR_lithospheric_thickness/1Codes/FLAC_SDR/EP_thick/20171208/vts_files/H21C\")\n",
    "    \n",
    "    #FLAC_file_path=(\"/Users/Tian/Documents/Thesis\"\n",
    "    #                \"/Vts_data/TianHe2/20170920/H\"\n",
    "    #                +Plate_thickness+\"-withHealing\")\n",
    "\n",
    "    FLAC_data = open(FLAC_file_path+\"/particles_\"+particle_number+\".0\",'rb')\n",
    "    data = np.fromfile(FLAC_data, dtype=np.single)\n",
    "    FLAC_data.close()\n",
    "    data_matrix = data.reshape((num_particles, 2, time_steps), order='F')\n",
    "    data_matrix_x = data_matrix[:,0,:]\n",
    "    data_matrix_y = data_matrix[:,1,:]\n",
    "\n",
    "    data_dy = np.zeros(len(data_matrix_x[:,1]))\n",
    "    data_dx = np.zeros(len(data_matrix_x[:,1]))\n",
    "    data_x_dt = np.zeros(len(data_matrix_x[:,1]))\n",
    "\n",
    "\n",
    "    time_data_comparison = Time_compare * yr_in_Myr \n",
    "    #[yr]  compare data at 1 Myr  (relative time, for SDR 10 at 10Myr is when it experience 1Myr of load)\n",
    "    TIME = float(particle_number) + Time_compare - 1. \n",
    "    steps = int(np.ceil(TIME * yr_in_Myr / dt_step)) # the step in FLAC correspond to time_data_comparison\n",
    "    steps_dt = steps + 1\n",
    "    \n",
    "    # fetch useful data at corresponding time\n",
    "    print(steps)\n",
    "    data_x = data_matrix_x[:,steps]\n",
    "    data_y = data_matrix_y[:,steps]\n",
    "    print(steps_dt)\n",
    "    data_x_dt = data_matrix_x[:,steps_dt]\n",
    "    data_y_dt = data_matrix_y[:,steps_dt]\n",
    "\n",
    "    data_dy = data_y_dt - data_y\n",
    "    data_dx = data_x_dt - data_x\n",
    "    data_x_dt = data_x_dt\n",
    "    \n",
    "    list_data_x.append(data_x_dt[:])\n",
    "    list_data_dx.append(data_dx[:])\n",
    "    list_data_dy.append(data_dy[:])"
   ]
  },
  {
   "cell_type": "code",
   "execution_count": null,
   "metadata": {
    "collapsed": true
   },
   "outputs": [],
   "source": []
  },
  {
   "cell_type": "code",
   "execution_count": 5,
   "metadata": {},
   "outputs": [
    {
     "data": {
      "text/plain": [
       "'/Volumes/Kelvin_2017/Thesis_Columbia/My_papers/Tian-Buck-2019-JGR-SDR_lithospheric_thickness/1Codes/FLAC_SDR/EP_thick/20171208/vts_files/H21C'"
      ]
     },
     "execution_count": 5,
     "metadata": {},
     "output_type": "execute_result"
    }
   ],
   "source": [
    "FLAC_file_path"
   ]
  },
  {
   "cell_type": "code",
   "execution_count": 8,
   "metadata": {},
   "outputs": [
    {
     "data": {
      "text/plain": [
       "array([   3.41628766,    3.58183932,    3.74838233,    3.9149251 ,\n",
       "          4.08118248,    4.24774027,    4.41383696,    4.58032894,\n",
       "          4.74692678,    4.91352463,    5.08036757,    5.24695349,\n",
       "          5.41339922,    5.5800519 ,    5.74665594,    5.91326046,\n",
       "          6.07992315,    6.24653339,    6.41301775,    6.57975245,\n",
       "          6.74638176,    6.91301107,    7.07958841,    7.24620724,\n",
       "          7.41276884,    7.57973671,    7.74636412,    7.91299152,\n",
       "          8.07967377,    8.24630737,    8.41288948,    8.57936954,\n",
       "          8.74600792,    8.91264725,    9.07930756,    9.24594402,\n",
       "          9.41254807,    9.57935429,    9.7460022 ,    9.91265011,\n",
       "         10.0792675 ,   10.24591732,   10.41251564,   10.57919979,\n",
       "         10.74584293,   10.91248703,   11.07918549,   11.24582863,\n",
       "         11.41248512,   11.57923794,   11.74589825,   11.91255856,\n",
       "         12.0792551 ,   12.24591827,   12.41253853,   12.5792675 ,\n",
       "         12.74591827,   12.91257   ,   13.07918739,   13.2458334 ,\n",
       "         13.41235638,   13.57903385,   13.74569798,   13.9123621 ,\n",
       "         14.07902718,   14.24569607,   14.41235065,   14.57924938,\n",
       "         14.74590874,   14.91256714,   15.07922268,   15.24588299,\n",
       "         15.41252136,   15.57917309,   15.74584103,   15.91250992,\n",
       "         16.07921982,   16.24588585,   16.41277504,   16.579319  ,\n",
       "         16.74598885,   16.91265678,   17.07936287,   17.24603271,\n",
       "         17.41268158,   17.57936478,   17.74603271,   17.91270065,\n",
       "         18.07932281,   18.24598694,   18.41256905,   18.57935143,\n",
       "         18.74602318,   18.91269493,   19.07938957,   19.24606514,\n",
       "         19.41267204,   19.57951164,   19.7461853 ,   19.91286087,\n",
       "         20.07957268,   20.24624634,   20.41284561,   20.57960129,\n",
       "         20.74627495,   20.9129467 ,   21.07956696,   21.24623871,\n",
       "         21.41283226,   21.5796032 ,   21.74628067,   21.91295815,\n",
       "         22.07966232,   22.24634171,   22.41296005,   22.57972717,\n",
       "         22.74640274,   22.91307831,   23.07979774,   23.24647522,\n",
       "         23.41308594,   23.57983017,   23.74651146,   23.91319275,\n",
       "         24.07985115,   24.24653244,   24.41316986,   24.57991791,\n",
       "         24.74659729,   24.91327477,   25.07998466,   25.24666595,\n",
       "         25.41328239,   25.58011627,   25.74679756,   25.91348076,\n",
       "         26.08012581,   26.24680519,   26.41341782,   26.58025932,\n",
       "         26.7469368 ,   26.91361618,   27.08033371,   27.24701881,\n",
       "         27.41364861,   27.58041573,   27.74710083,   27.91378403,\n",
       "         28.08049011,   28.24716949,   28.41378593,   28.58053589,\n",
       "         28.74721146,   28.91388893,   29.08054733,   29.24723434,\n",
       "         29.41384506,   29.58062744,   29.74730873,   29.91399002,\n",
       "         30.08073807,   30.24742126,   30.41404915,   30.58081245,\n",
       "         30.74749184,   30.91417122,   31.08092499,   31.24761581,\n",
       "         31.41422844,   31.58090019,   31.74757767,   31.91425514,\n",
       "         32.08101273,   32.24769211,   32.41431808,   32.58094025,\n",
       "         32.74762344,   32.91430664,   33.08107758,   33.24774933,\n",
       "         33.41438675,   33.58104324,   33.74773407,   33.91442871,\n",
       "         34.08117676,   34.24783707,   34.41450119,   34.58127975,\n",
       "         34.74797821,   34.91468048,   35.08132553,   35.24800491,\n",
       "         35.4146843 ,   35.581604  ,   35.74829483,   35.91498566,\n",
       "         36.08151627,   36.24819565,   36.41487885,   36.58172607,\n",
       "         36.74840546,   36.91508484,   37.08166885,   37.24835587,\n",
       "         37.41503906,   37.58184052,   37.74852753,   37.91521454,\n",
       "         38.08186722,   38.2485466 ,   38.4152298 ,   38.58198166,\n",
       "         38.74866486,   38.91534805,   39.08198166,   39.24866104,\n",
       "         39.41534042,   39.58215714,   39.74884415,   39.91553497,\n",
       "         40.08210373,   40.24878311,   40.41546249,   40.58225632,\n",
       "         40.74893188,   40.91560745,   41.0821228 ,   41.248806  ,\n",
       "         41.41548538,   41.58226013,   41.74892426,   41.91558838,\n",
       "         42.08224869,   42.24894714,   42.41564178,   42.58235168,\n",
       "         42.74901581,   42.91567993,   43.08251572,   43.24920654,\n",
       "         43.41589737,   43.58248138,   43.74915695,   43.91583252,\n",
       "         44.08268738,   44.24935913,   44.4160347 ,   44.58260345,\n",
       "         44.74927521,   44.91594696,   45.08272552,   45.24939728,\n",
       "         45.41606522,   45.58265305,   45.74931717,   45.91598129,\n",
       "         46.08269882,   46.24936295,   46.41602325,   46.58256912,\n",
       "         46.74922562,   46.9158783 ,   47.08256149,   47.24921417,\n",
       "         47.41586685,   47.58243179,   47.74909592,   47.91576004,\n",
       "         48.08244324,   48.24910736,   48.41576767,   48.5825119 ,\n",
       "         48.74921036,   48.915905  ,   49.08261871,   49.24931717,\n",
       "         49.41601181,   49.582901  ,   49.7496109 ,   49.9163208 ,\n",
       "         50.08304214,   50.24975204,   50.41646194,   50.58332443,\n",
       "         50.75003052,   50.9167366 ,   51.08345413,   51.25016022,\n",
       "         51.41686249,   51.58365631,   51.75035858,   51.91706467,\n",
       "         52.08377838,   52.25048065,   52.41718292,   52.5839386 ,\n",
       "         52.75064087,   52.91733932,   53.08405304,   53.2507515 ,\n",
       "         53.41745377,   53.58419037,   53.75088882,   53.91758728,\n",
       "         54.08429337,   54.25099182,   54.41769028,   54.58441925,\n",
       "         54.75111389,   54.91780853,   55.08451462,   55.25121307,\n",
       "         55.41790771,   55.58462906,   55.7513237 ,   55.91801834,\n",
       "         56.08472061,   56.25141525,   56.41810989,   56.58482742,\n",
       "         56.75151825,   56.91821289,   57.08491516,   57.25160599,\n",
       "         57.41829681,   57.58501434,   57.75170517,   57.918396  ,\n",
       "         58.08509445,   58.25178528,   58.4184761 ,   58.58518982,\n",
       "         58.75188065,   58.91857147,   59.08526993,   59.25196075,\n",
       "         59.41864777,   59.58536148,   59.75204849,   59.91873932,\n",
       "         60.08543777,   60.25212479,   60.4188118 ,   60.5855217 ,\n",
       "         60.75221252,   60.91889954,   61.08559418,   61.252285  ,\n",
       "         61.41897202,   61.5856781 ,   61.75236511,   61.91905212,\n",
       "         62.08575058,   62.25243759,   62.4191246 ,   62.58583069,\n",
       "         62.7525177 ,   62.91920471,   63.08589935,   63.25258255,\n",
       "         63.41926956,   63.58597946,   63.75266266,   63.91934967,\n",
       "         64.08604431,   64.25273132,   64.41941071,   64.58612061,\n",
       "         64.75280762,   64.919487  ,   65.08618164,   65.25286865,\n",
       "         65.41954803,   65.58625793,   65.75294495,   65.91962433,\n",
       "         66.08631897,   66.25299835,   66.41968536,   66.58638763,\n",
       "         66.75306702,   66.9197464 ,   67.08644104,   67.25312042,\n",
       "         67.4197998 ,   67.58649445,   67.75317383,   67.91985321,\n",
       "         68.08654785,   68.25322723,   68.41990662,   68.58660126,\n",
       "         68.75327301,   68.91995239,   69.0866394 ,   69.25331879,\n",
       "         69.41999817,   69.58668518,   69.75336456,   69.92004395,\n",
       "         70.08672333,   70.25340271,   70.42007446,   70.5867691 ,\n",
       "         70.75344086,   70.92011261,   71.08679962,   71.25347137,\n",
       "         71.42015076,   71.58683777,   71.75350952,   71.92018127,\n",
       "         72.08686066,   72.25354004,   72.42021179,   72.5868988 ,\n",
       "         72.75357056,   72.92024231,   73.08692169,   73.25359344,\n",
       "         73.4202652 ,   73.58695221,   73.75361633,   73.92028809,\n",
       "         74.08696747,   74.25363922,   74.42031097,   74.58699799,\n",
       "         74.75366211,   74.92033386,   75.08701324,   75.253685  ,\n",
       "         75.42034912,   75.58703613,   75.75370026,   75.92037201,\n",
       "         76.08704376,   76.25371552,   76.42038727,   76.58706665,\n",
       "         76.75373077,   76.92040253,   77.08707428,   77.25374603,\n",
       "         77.42041016,   77.58708954,   77.75375366,   77.92042542,\n",
       "         78.08709717,   78.25376129,   78.42043304,   78.58711243,\n",
       "         78.75377655,   78.92044067,   79.08711243,   79.25378418,\n",
       "         79.4204483 ,   79.58712006,   79.75378418,   79.92045593,\n",
       "         80.08712769,   80.25379181,   80.42045593,   80.58712769,\n",
       "         80.75379181,   80.92045593,   81.08712769,   81.25379181,\n",
       "         81.42045593,   81.58713531,   81.75379944,   81.92045593,\n",
       "         82.08712769,   82.25379181,   82.42045593,   82.58712769,\n",
       "         82.75379181,   82.92045593,   83.08712006,   83.25378418,\n",
       "         83.4204483 ,   83.58712006,   83.75378418,   83.92044067,\n",
       "         84.08711243,   84.25377655,   84.42043304,   84.5871048 ,\n",
       "         84.75376892,   84.92042542,   85.08709717,   85.25375366,\n",
       "         85.42041779,   85.58708954,   85.75374603,   85.92041016,\n",
       "         86.08707428,   86.2537384 ,   86.4203949 ,   86.58706665,\n",
       "         86.75372314,   86.92038727,   87.08705139,   87.25370789,\n",
       "         87.42036438,   87.58703613,   87.75369263,   87.92035675,\n",
       "         88.08701324,   88.25367737,   88.42033386,   88.58699799,\n",
       "         88.75366211,   88.9203186 ,   89.08698273,   89.25363922,\n",
       "         89.42029572,   89.58695984,   89.75361633,   89.92027283,\n",
       "         90.08693695,   90.25359344,   90.42024994,   90.58691406,\n",
       "         90.75357056,   90.92022705,   91.08689117,   91.25354767,\n",
       "         91.42020416,   91.58686829,   91.75352478,   91.92018127,\n",
       "         92.08683777,   92.25349426,   92.42015076,   92.58680725,\n",
       "         92.75346375,   92.92012024,   93.08677673,   93.25343323,\n",
       "         93.42008972,   93.58674622,   93.75340271,   93.9200592 ,\n",
       "         94.0867157 ,   94.25337219,   94.42002106,   94.58668518,\n",
       "         94.75333405,   94.91999054,   95.08664703,   95.2532959 ,\n",
       "         95.41995239,   95.58660889,   95.75325775,   95.91991425,\n",
       "         96.08657074,   96.2532196 ,   96.4198761 ,   96.58653259,\n",
       "         96.75318146,   96.91983032,   97.08648682,   97.25313568,\n",
       "         97.41979218,   97.58644104,   97.75309753,   97.9197464 ,\n",
       "         98.08639526,   98.25305176,   98.41970062,   98.58634949,\n",
       "         98.75300598,   98.91965485,   99.08630371,   99.25295258,\n",
       "         99.41960907,   99.58625793,   99.7529068 ,   99.91955566,\n",
       "        100.08620453,  100.25286102,  100.41951752,  100.58615875,\n",
       "        100.75280762,  100.91945648,  101.08610535,  101.25275421,\n",
       "        101.41941833,  101.58605194,  101.75270081,  101.91934967,\n",
       "        102.08599854,  102.2526474 ,  102.41929626,  102.58594513,\n",
       "        102.75259399,  102.91924286,  103.08589172,  103.25254059], dtype=float32)"
      ]
     },
     "execution_count": 8,
     "metadata": {},
     "output_type": "execute_result"
    }
   ],
   "source": [
    "list_data_x[0][:]"
   ]
  },
  {
   "cell_type": "code",
   "execution_count": 11,
   "metadata": {},
   "outputs": [
    {
     "ename": "TypeError",
     "evalue": "can't multiply sequence by non-int of type 'float'",
     "output_type": "error",
     "traceback": [
      "\u001b[0;31m---------------------------------------------------------------------------\u001b[0m",
      "\u001b[0;31mTypeError\u001b[0m                                 Traceback (most recent call last)",
      "\u001b[0;32m<ipython-input-11-e5b9f0214eb2>\u001b[0m in \u001b[0;36m<module>\u001b[0;34m()\u001b[0m\n\u001b[1;32m      6\u001b[0m     \u001b[0;31m#plt.plot(list_data_x[i],list_data_dy[i]*1000)\u001b[0m\u001b[0;34m\u001b[0m\u001b[0;34m\u001b[0m\u001b[0m\n\u001b[1;32m      7\u001b[0m     \u001b[0;32mif\u001b[0m\u001b[0;34m(\u001b[0m\u001b[0mi\u001b[0m\u001b[0;34m==\u001b[0m\u001b[0;36m0\u001b[0m\u001b[0;34m)\u001b[0m\u001b[0;34m:\u001b[0m\u001b[0;34m\u001b[0m\u001b[0m\n\u001b[0;32m----> 8\u001b[0;31m         \u001b[0mplt\u001b[0m\u001b[0;34m.\u001b[0m\u001b[0mplot\u001b[0m\u001b[0;34m(\u001b[0m\u001b[0mlist_data_x\u001b[0m\u001b[0;34m[\u001b[0m\u001b[0mi\u001b[0m\u001b[0;34m]\u001b[0m\u001b[0;34m[\u001b[0m\u001b[0;34m:\u001b[0m\u001b[0;34m]\u001b[0m\u001b[0;34m,\u001b[0m\u001b[0mlist_data_dy\u001b[0m\u001b[0;34m[\u001b[0m\u001b[0mi\u001b[0m\u001b[0;34m]\u001b[0m\u001b[0;34m[\u001b[0m\u001b[0;34m:\u001b[0m\u001b[0;34m]\u001b[0m\u001b[0;34m,\u001b[0m\u001b[0;34m\"b-.\"\u001b[0m\u001b[0;34m,\u001b[0m\u001b[0mlinewidth\u001b[0m\u001b[0;34m=\u001b[0m\u001b[0;34m\"3\"\u001b[0m\u001b[0;34m,\u001b[0m\u001b[0mlabel\u001b[0m\u001b[0;34m=\u001b[0m\u001b[0;34m\"%d.1 Myrs\"\u001b[0m\u001b[0;34m%\u001b[0m\u001b[0mi\u001b[0m\u001b[0;34m)\u001b[0m\u001b[0;34m\u001b[0m\u001b[0m\n\u001b[0m\u001b[1;32m      9\u001b[0m     \u001b[0;32melif\u001b[0m\u001b[0;34m(\u001b[0m\u001b[0mi\u001b[0m\u001b[0;34m==\u001b[0m\u001b[0mN_SDR\u001b[0m\u001b[0;34m-\u001b[0m\u001b[0;36m1\u001b[0m\u001b[0;34m)\u001b[0m\u001b[0;34m:\u001b[0m\u001b[0;34m\u001b[0m\u001b[0m\n\u001b[1;32m     10\u001b[0m         \u001b[0mplt\u001b[0m\u001b[0;34m.\u001b[0m\u001b[0mplot\u001b[0m\u001b[0;34m(\u001b[0m\u001b[0mlist_data_x\u001b[0m\u001b[0;34m[\u001b[0m\u001b[0mi\u001b[0m\u001b[0;34m]\u001b[0m\u001b[0;34m[\u001b[0m\u001b[0;34m:\u001b[0m\u001b[0;34m]\u001b[0m\u001b[0;34m,\u001b[0m\u001b[0mlist_data_dy\u001b[0m\u001b[0;34m[\u001b[0m\u001b[0mi\u001b[0m\u001b[0;34m]\u001b[0m\u001b[0;34m[\u001b[0m\u001b[0;34m:\u001b[0m\u001b[0;34m]\u001b[0m\u001b[0;34m*\u001b[0m\u001b[0;36m1000\u001b[0m\u001b[0;34m,\u001b[0m\u001b[0;34m\"k-\"\u001b[0m\u001b[0;34m,\u001b[0m\u001b[0mlinewidth\u001b[0m\u001b[0;34m=\u001b[0m\u001b[0;34m\"5\"\u001b[0m\u001b[0;34m,\u001b[0m\u001b[0mlabel\u001b[0m\u001b[0;34m=\u001b[0m\u001b[0;34m\"%d.1 Myrs\"\u001b[0m\u001b[0;34m%\u001b[0m\u001b[0mi\u001b[0m\u001b[0;34m)\u001b[0m\u001b[0;34m\u001b[0m\u001b[0m\n",
      "\u001b[0;32m/opt/local/Library/Frameworks/Python.framework/Versions/2.7/lib/python2.7/site-packages/matplotlib/pyplot.pyc\u001b[0m in \u001b[0;36mplot\u001b[0;34m(*args, **kwargs)\u001b[0m\n\u001b[1;32m   3315\u001b[0m                       mplDeprecation)\n\u001b[1;32m   3316\u001b[0m     \u001b[0;32mtry\u001b[0m\u001b[0;34m:\u001b[0m\u001b[0;34m\u001b[0m\u001b[0m\n\u001b[0;32m-> 3317\u001b[0;31m         \u001b[0mret\u001b[0m \u001b[0;34m=\u001b[0m \u001b[0max\u001b[0m\u001b[0;34m.\u001b[0m\u001b[0mplot\u001b[0m\u001b[0;34m(\u001b[0m\u001b[0;34m*\u001b[0m\u001b[0margs\u001b[0m\u001b[0;34m,\u001b[0m \u001b[0;34m**\u001b[0m\u001b[0mkwargs\u001b[0m\u001b[0;34m)\u001b[0m\u001b[0;34m\u001b[0m\u001b[0m\n\u001b[0m\u001b[1;32m   3318\u001b[0m     \u001b[0;32mfinally\u001b[0m\u001b[0;34m:\u001b[0m\u001b[0;34m\u001b[0m\u001b[0m\n\u001b[1;32m   3319\u001b[0m         \u001b[0max\u001b[0m\u001b[0;34m.\u001b[0m\u001b[0m_hold\u001b[0m \u001b[0;34m=\u001b[0m \u001b[0mwashold\u001b[0m\u001b[0;34m\u001b[0m\u001b[0m\n",
      "\u001b[0;32m/opt/local/Library/Frameworks/Python.framework/Versions/2.7/lib/python2.7/site-packages/matplotlib/__init__.pyc\u001b[0m in \u001b[0;36minner\u001b[0;34m(ax, *args, **kwargs)\u001b[0m\n\u001b[1;32m   1896\u001b[0m                     warnings.warn(msg % (label_namer, func.__name__),\n\u001b[1;32m   1897\u001b[0m                                   RuntimeWarning, stacklevel=2)\n\u001b[0;32m-> 1898\u001b[0;31m             \u001b[0;32mreturn\u001b[0m \u001b[0mfunc\u001b[0m\u001b[0;34m(\u001b[0m\u001b[0max\u001b[0m\u001b[0;34m,\u001b[0m \u001b[0;34m*\u001b[0m\u001b[0margs\u001b[0m\u001b[0;34m,\u001b[0m \u001b[0;34m**\u001b[0m\u001b[0mkwargs\u001b[0m\u001b[0;34m)\u001b[0m\u001b[0;34m\u001b[0m\u001b[0m\n\u001b[0m\u001b[1;32m   1899\u001b[0m         \u001b[0mpre_doc\u001b[0m \u001b[0;34m=\u001b[0m \u001b[0minner\u001b[0m\u001b[0;34m.\u001b[0m\u001b[0m__doc__\u001b[0m\u001b[0;34m\u001b[0m\u001b[0m\n\u001b[1;32m   1900\u001b[0m         \u001b[0;32mif\u001b[0m \u001b[0mpre_doc\u001b[0m \u001b[0;32mis\u001b[0m \u001b[0mNone\u001b[0m\u001b[0;34m:\u001b[0m\u001b[0;34m\u001b[0m\u001b[0m\n",
      "\u001b[0;32m/opt/local/Library/Frameworks/Python.framework/Versions/2.7/lib/python2.7/site-packages/matplotlib/axes/_axes.pyc\u001b[0m in \u001b[0;36mplot\u001b[0;34m(self, *args, **kwargs)\u001b[0m\n\u001b[1;32m   1404\u001b[0m         \u001b[0mkwargs\u001b[0m \u001b[0;34m=\u001b[0m \u001b[0mcbook\u001b[0m\u001b[0;34m.\u001b[0m\u001b[0mnormalize_kwargs\u001b[0m\u001b[0;34m(\u001b[0m\u001b[0mkwargs\u001b[0m\u001b[0;34m,\u001b[0m \u001b[0m_alias_map\u001b[0m\u001b[0;34m)\u001b[0m\u001b[0;34m\u001b[0m\u001b[0m\n\u001b[1;32m   1405\u001b[0m \u001b[0;34m\u001b[0m\u001b[0m\n\u001b[0;32m-> 1406\u001b[0;31m         \u001b[0;32mfor\u001b[0m \u001b[0mline\u001b[0m \u001b[0;32min\u001b[0m \u001b[0mself\u001b[0m\u001b[0;34m.\u001b[0m\u001b[0m_get_lines\u001b[0m\u001b[0;34m(\u001b[0m\u001b[0;34m*\u001b[0m\u001b[0margs\u001b[0m\u001b[0;34m,\u001b[0m \u001b[0;34m**\u001b[0m\u001b[0mkwargs\u001b[0m\u001b[0;34m)\u001b[0m\u001b[0;34m:\u001b[0m\u001b[0;34m\u001b[0m\u001b[0m\n\u001b[0m\u001b[1;32m   1407\u001b[0m             \u001b[0mself\u001b[0m\u001b[0;34m.\u001b[0m\u001b[0madd_line\u001b[0m\u001b[0;34m(\u001b[0m\u001b[0mline\u001b[0m\u001b[0;34m)\u001b[0m\u001b[0;34m\u001b[0m\u001b[0m\n\u001b[1;32m   1408\u001b[0m             \u001b[0mlines\u001b[0m\u001b[0;34m.\u001b[0m\u001b[0mappend\u001b[0m\u001b[0;34m(\u001b[0m\u001b[0mline\u001b[0m\u001b[0;34m)\u001b[0m\u001b[0;34m\u001b[0m\u001b[0m\n",
      "\u001b[0;32m/opt/local/Library/Frameworks/Python.framework/Versions/2.7/lib/python2.7/site-packages/matplotlib/axes/_base.pyc\u001b[0m in \u001b[0;36m_grab_next_args\u001b[0;34m(self, *args, **kwargs)\u001b[0m\n\u001b[1;32m    405\u001b[0m                 \u001b[0;32mreturn\u001b[0m\u001b[0;34m\u001b[0m\u001b[0m\n\u001b[1;32m    406\u001b[0m             \u001b[0;32mif\u001b[0m \u001b[0mlen\u001b[0m\u001b[0;34m(\u001b[0m\u001b[0mremaining\u001b[0m\u001b[0;34m)\u001b[0m \u001b[0;34m<=\u001b[0m \u001b[0;36m3\u001b[0m\u001b[0;34m:\u001b[0m\u001b[0;34m\u001b[0m\u001b[0m\n\u001b[0;32m--> 407\u001b[0;31m                 \u001b[0;32mfor\u001b[0m \u001b[0mseg\u001b[0m \u001b[0;32min\u001b[0m \u001b[0mself\u001b[0m\u001b[0;34m.\u001b[0m\u001b[0m_plot_args\u001b[0m\u001b[0;34m(\u001b[0m\u001b[0mremaining\u001b[0m\u001b[0;34m,\u001b[0m \u001b[0mkwargs\u001b[0m\u001b[0;34m)\u001b[0m\u001b[0;34m:\u001b[0m\u001b[0;34m\u001b[0m\u001b[0m\n\u001b[0m\u001b[1;32m    408\u001b[0m                     \u001b[0;32myield\u001b[0m \u001b[0mseg\u001b[0m\u001b[0;34m\u001b[0m\u001b[0m\n\u001b[1;32m    409\u001b[0m                 \u001b[0;32mreturn\u001b[0m\u001b[0;34m\u001b[0m\u001b[0m\n",
      "\u001b[0;32m/opt/local/Library/Frameworks/Python.framework/Versions/2.7/lib/python2.7/site-packages/matplotlib/axes/_base.pyc\u001b[0m in \u001b[0;36m_plot_args\u001b[0;34m(self, tup, kwargs)\u001b[0m\n\u001b[1;32m    393\u001b[0m         \u001b[0mncx\u001b[0m\u001b[0;34m,\u001b[0m \u001b[0mncy\u001b[0m \u001b[0;34m=\u001b[0m \u001b[0mx\u001b[0m\u001b[0;34m.\u001b[0m\u001b[0mshape\u001b[0m\u001b[0;34m[\u001b[0m\u001b[0;36m1\u001b[0m\u001b[0;34m]\u001b[0m\u001b[0;34m,\u001b[0m \u001b[0my\u001b[0m\u001b[0;34m.\u001b[0m\u001b[0mshape\u001b[0m\u001b[0;34m[\u001b[0m\u001b[0;36m1\u001b[0m\u001b[0;34m]\u001b[0m\u001b[0;34m\u001b[0m\u001b[0m\n\u001b[1;32m    394\u001b[0m         \u001b[0;32mfor\u001b[0m \u001b[0mj\u001b[0m \u001b[0;32min\u001b[0m \u001b[0mxrange\u001b[0m\u001b[0;34m(\u001b[0m\u001b[0mmax\u001b[0m\u001b[0;34m(\u001b[0m\u001b[0mncx\u001b[0m\u001b[0;34m,\u001b[0m \u001b[0mncy\u001b[0m\u001b[0;34m)\u001b[0m\u001b[0;34m)\u001b[0m\u001b[0;34m:\u001b[0m\u001b[0;34m\u001b[0m\u001b[0m\n\u001b[0;32m--> 395\u001b[0;31m             \u001b[0mseg\u001b[0m \u001b[0;34m=\u001b[0m \u001b[0mfunc\u001b[0m\u001b[0;34m(\u001b[0m\u001b[0mx\u001b[0m\u001b[0;34m[\u001b[0m\u001b[0;34m:\u001b[0m\u001b[0;34m,\u001b[0m \u001b[0mj\u001b[0m \u001b[0;34m%\u001b[0m \u001b[0mncx\u001b[0m\u001b[0;34m]\u001b[0m\u001b[0;34m,\u001b[0m \u001b[0my\u001b[0m\u001b[0;34m[\u001b[0m\u001b[0;34m:\u001b[0m\u001b[0;34m,\u001b[0m \u001b[0mj\u001b[0m \u001b[0;34m%\u001b[0m \u001b[0mncy\u001b[0m\u001b[0;34m]\u001b[0m\u001b[0;34m,\u001b[0m \u001b[0mkw\u001b[0m\u001b[0;34m,\u001b[0m \u001b[0mkwargs\u001b[0m\u001b[0;34m)\u001b[0m\u001b[0;34m\u001b[0m\u001b[0m\n\u001b[0m\u001b[1;32m    396\u001b[0m             \u001b[0mret\u001b[0m\u001b[0;34m.\u001b[0m\u001b[0mappend\u001b[0m\u001b[0;34m(\u001b[0m\u001b[0mseg\u001b[0m\u001b[0;34m)\u001b[0m\u001b[0;34m\u001b[0m\u001b[0m\n\u001b[1;32m    397\u001b[0m         \u001b[0;32mreturn\u001b[0m \u001b[0mret\u001b[0m\u001b[0;34m\u001b[0m\u001b[0m\n",
      "\u001b[0;32m/opt/local/Library/Frameworks/Python.framework/Versions/2.7/lib/python2.7/site-packages/matplotlib/axes/_base.pyc\u001b[0m in \u001b[0;36m_makeline\u001b[0;34m(self, x, y, kw, kwargs)\u001b[0m\n\u001b[1;32m    300\u001b[0m         \u001b[0mdefault_dict\u001b[0m \u001b[0;34m=\u001b[0m \u001b[0mself\u001b[0m\u001b[0;34m.\u001b[0m\u001b[0m_getdefaults\u001b[0m\u001b[0;34m(\u001b[0m\u001b[0mNone\u001b[0m\u001b[0;34m,\u001b[0m \u001b[0mkw\u001b[0m\u001b[0;34m)\u001b[0m\u001b[0;34m\u001b[0m\u001b[0m\n\u001b[1;32m    301\u001b[0m         \u001b[0mself\u001b[0m\u001b[0;34m.\u001b[0m\u001b[0m_setdefaults\u001b[0m\u001b[0;34m(\u001b[0m\u001b[0mdefault_dict\u001b[0m\u001b[0;34m,\u001b[0m \u001b[0mkw\u001b[0m\u001b[0;34m)\u001b[0m\u001b[0;34m\u001b[0m\u001b[0m\n\u001b[0;32m--> 302\u001b[0;31m         \u001b[0mseg\u001b[0m \u001b[0;34m=\u001b[0m \u001b[0mmlines\u001b[0m\u001b[0;34m.\u001b[0m\u001b[0mLine2D\u001b[0m\u001b[0;34m(\u001b[0m\u001b[0mx\u001b[0m\u001b[0;34m,\u001b[0m \u001b[0my\u001b[0m\u001b[0;34m,\u001b[0m \u001b[0;34m**\u001b[0m\u001b[0mkw\u001b[0m\u001b[0;34m)\u001b[0m\u001b[0;34m\u001b[0m\u001b[0m\n\u001b[0m\u001b[1;32m    303\u001b[0m         \u001b[0;32mreturn\u001b[0m \u001b[0mseg\u001b[0m\u001b[0;34m\u001b[0m\u001b[0m\n\u001b[1;32m    304\u001b[0m \u001b[0;34m\u001b[0m\u001b[0m\n",
      "\u001b[0;32m/opt/local/Library/Frameworks/Python.framework/Versions/2.7/lib/python2.7/site-packages/matplotlib/lines.pyc\u001b[0m in \u001b[0;36m__init__\u001b[0;34m(self, xdata, ydata, linewidth, linestyle, color, marker, markersize, markeredgewidth, markeredgecolor, markerfacecolor, markerfacecoloralt, fillstyle, antialiased, dash_capstyle, solid_capstyle, dash_joinstyle, solid_joinstyle, pickradius, drawstyle, markevery, **kwargs)\u001b[0m\n\u001b[1;32m    396\u001b[0m         \u001b[0mself\u001b[0m\u001b[0;34m.\u001b[0m\u001b[0m_us_dashOffset\u001b[0m \u001b[0;34m=\u001b[0m \u001b[0;36m0\u001b[0m\u001b[0;34m\u001b[0m\u001b[0m\n\u001b[1;32m    397\u001b[0m \u001b[0;34m\u001b[0m\u001b[0m\n\u001b[0;32m--> 398\u001b[0;31m         \u001b[0mself\u001b[0m\u001b[0;34m.\u001b[0m\u001b[0mset_linestyle\u001b[0m\u001b[0;34m(\u001b[0m\u001b[0mlinestyle\u001b[0m\u001b[0;34m)\u001b[0m\u001b[0;34m\u001b[0m\u001b[0m\n\u001b[0m\u001b[1;32m    399\u001b[0m         \u001b[0mself\u001b[0m\u001b[0;34m.\u001b[0m\u001b[0mset_drawstyle\u001b[0m\u001b[0;34m(\u001b[0m\u001b[0mdrawstyle\u001b[0m\u001b[0;34m)\u001b[0m\u001b[0;34m\u001b[0m\u001b[0m\n\u001b[1;32m    400\u001b[0m         \u001b[0mself\u001b[0m\u001b[0;34m.\u001b[0m\u001b[0mset_linewidth\u001b[0m\u001b[0;34m(\u001b[0m\u001b[0mlinewidth\u001b[0m\u001b[0;34m)\u001b[0m\u001b[0;34m\u001b[0m\u001b[0m\n",
      "\u001b[0;32m/opt/local/Library/Frameworks/Python.framework/Versions/2.7/lib/python2.7/site-packages/matplotlib/lines.pyc\u001b[0m in \u001b[0;36mset_linestyle\u001b[0;34m(self, ls)\u001b[0m\n\u001b[1;32m   1152\u001b[0m         \u001b[0;31m# compute the linewidth scaled dashes\u001b[0m\u001b[0;34m\u001b[0m\u001b[0;34m\u001b[0m\u001b[0m\n\u001b[1;32m   1153\u001b[0m         self._dashOffset, self._dashSeq = _scale_dashes(\n\u001b[0;32m-> 1154\u001b[0;31m             self._us_dashOffset, self._us_dashSeq, self._linewidth)\n\u001b[0m\u001b[1;32m   1155\u001b[0m \u001b[0;34m\u001b[0m\u001b[0m\n\u001b[1;32m   1156\u001b[0m     \u001b[0;34m@\u001b[0m\u001b[0mdocstring\u001b[0m\u001b[0;34m.\u001b[0m\u001b[0mdedent_interpd\u001b[0m\u001b[0;34m\u001b[0m\u001b[0m\n",
      "\u001b[0;32m/opt/local/Library/Frameworks/Python.framework/Versions/2.7/lib/python2.7/site-packages/matplotlib/lines.pyc\u001b[0m in \u001b[0;36m_scale_dashes\u001b[0;34m(offset, dashes, lw)\u001b[0m\n\u001b[1;32m     72\u001b[0m     \u001b[0mscaled_offset\u001b[0m \u001b[0;34m=\u001b[0m \u001b[0mscaled_dashes\u001b[0m \u001b[0;34m=\u001b[0m \u001b[0mNone\u001b[0m\u001b[0;34m\u001b[0m\u001b[0m\n\u001b[1;32m     73\u001b[0m     \u001b[0;32mif\u001b[0m \u001b[0moffset\u001b[0m \u001b[0;32mis\u001b[0m \u001b[0;32mnot\u001b[0m \u001b[0mNone\u001b[0m\u001b[0;34m:\u001b[0m\u001b[0;34m\u001b[0m\u001b[0m\n\u001b[0;32m---> 74\u001b[0;31m         \u001b[0mscaled_offset\u001b[0m \u001b[0;34m=\u001b[0m \u001b[0moffset\u001b[0m \u001b[0;34m*\u001b[0m \u001b[0mlw\u001b[0m\u001b[0;34m\u001b[0m\u001b[0m\n\u001b[0m\u001b[1;32m     75\u001b[0m     \u001b[0;32mif\u001b[0m \u001b[0mdashes\u001b[0m \u001b[0;32mis\u001b[0m \u001b[0;32mnot\u001b[0m \u001b[0mNone\u001b[0m\u001b[0;34m:\u001b[0m\u001b[0;34m\u001b[0m\u001b[0m\n\u001b[1;32m     76\u001b[0m         scaled_dashes = [x * lw if x is not None else None\n",
      "\u001b[0;31mTypeError\u001b[0m: can't multiply sequence by non-int of type 'float'"
     ]
    }
   ],
   "source": [
    "resources_path=\"/Users/Tian/Documents/Thesis_Columbia/!SDR_manuscript/manuscript-2018/figures/resources/\"\n",
    "fig = plt.gcf()\n",
    "fig.set_size_inches(10, 3)\n",
    "\n",
    "for i in range(N_SDR):\n",
    "    #plt.plot(list_data_x[i],list_data_dy[i]*1000)\n",
    "    if(i==0):\n",
    "        plt.plot(list_data_x[i][:],list_data_dy[i][:]*1000,\"b-.\",linewidth=\"3\",label=\"%d.1 Myrs\"%i)\n",
    "    elif(i==N_SDR-1):\n",
    "        plt.plot(list_data_x[i][:],list_data_dy[i][:]*1000,\"k-\",linewidth=\"5\",label=\"%d.1 Myrs\"%i)\n",
    "    else:\n",
    "        plt.plot(list_data_x[i][:],list_data_dy[i][:]*1000,\"r-\",linewidth=\"1\",label=\"%d.1 Myrs\"%i)\n",
    "plt.legend()\n",
    "import matplotlib\n",
    "matplotlib.rc('xtick', labelsize=20) \n",
    "matplotlib.rc('ytick', labelsize=20)\n",
    "\n",
    "plt.grid()\n",
    "plt.title(\"EP dw(x) during 20 kyrs Hc=21 km C40\",fontsize=20)\n",
    "plt.xlabel(\"off axis distance [km]\",fontsize=20)\n",
    "plt.ylabel(\"deflection [m]\",fontsize=20)\n",
    "plt.show()\n",
    "fig.savefig(resources_path+'EP-H21-C40.pdf', dpi=300)"
   ]
  },
  {
   "cell_type": "code",
   "execution_count": 9,
   "metadata": {},
   "outputs": [
    {
     "data": {
      "text/plain": [
       "<matplotlib.legend.Legend at 0x112e99550>"
      ]
     },
     "execution_count": 9,
     "metadata": {},
     "output_type": "execute_result"
    }
   ],
   "source": [
    "#for i in range(5,10):\n",
    "    #plt.plot(list_data_x[i],list_data_dy[i])\n",
    "#fig0,=plt.plot(list_data_x[0],list_data_dy[0],label=\"0\")\n",
    "#fig1,=plt.plot(list_data_x[3],list_data_dy[3],label=\"3\")\n",
    "fig2,=plt.plot(list_data_x[7],list_data_dy[7],label=\"5Myr\")\n",
    "fig3,=plt.plot(list_data_x[5],list_data_dy[5],label=\"6Myr\")\n",
    "#fig4,=plt.plot(list_data_x[1],list_data_dy[1],label=\"1\")\n",
    "#plt.plot(list_data_x[7],list_data_dy[7])\n",
    "plt.legend()"
   ]
  },
  {
   "cell_type": "code",
   "execution_count": 10,
   "metadata": {},
   "outputs": [
    {
     "data": {
      "image/png": "[encoded data removed]",
      "text/plain": [
       "<matplotlib.figure.Figure at 0x10f03be48>"
      ]
     },
     "metadata": {},
     "output_type": "display_data"
    }
   ],
   "source": [
    "plt.grid()\n",
    "plt.xlabel(\"off axis distance [km]\")\n",
    "plt.ylabel(\"deflection [m]\")\n",
    "plt.show()"
   ]
  },
  {
   "cell_type": "code",
   "execution_count": 11,
   "metadata": {},
   "outputs": [
    {
     "data": {
      "text/plain": [
       "8"
      ]
     },
     "execution_count": 11,
     "metadata": {},
     "output_type": "execute_result"
    }
   ],
   "source": [
    "len(list_data_dy)"
   ]
  },
  {
   "cell_type": "code",
   "execution_count": 12,
   "metadata": {
    "collapsed": true
   },
   "outputs": [],
   "source": [
    "xx = [item[2] for item in list_data_x]"
   ]
  },
  {
   "cell_type": "code",
   "execution_count": 13,
   "metadata": {},
   "outputs": [
    {
     "data": {
      "text/plain": [
       "3520.683765411377"
      ]
     },
     "execution_count": 13,
     "metadata": {},
     "output_type": "execute_result"
    }
   ],
   "source": [
    "# calculate the average x locations of the SDRs that is nearest to axis\n",
    "xx_avg = sum(xx)/len(xx)*1000.\n",
    "xx_avg"
   ]
  },
  {
   "cell_type": "code",
   "execution_count": 14,
   "metadata": {
    "collapsed": true
   },
   "outputs": [],
   "source": [
    "dw0 = [item[2] for item in list_data_dy]"
   ]
  },
  {
   "cell_type": "code",
   "execution_count": 15,
   "metadata": {
    "collapsed": true
   },
   "outputs": [],
   "source": [
    "dw0 = np.array(dw0)"
   ]
  },
  {
   "cell_type": "code",
   "execution_count": 16,
   "metadata": {},
   "outputs": [
    {
     "data": {
      "text/plain": [
       "array([-12.88716507, -42.90592575, -69.73019409, -84.65653992,\n",
       "       -93.34093475, -96.55433655, -96.43852997, -96.23277283], dtype=float32)"
      ]
     },
     "execution_count": 16,
     "metadata": {},
     "output_type": "execute_result"
    }
   ],
   "source": [
    "dw0*1000"
   ]
  },
  {
   "cell_type": "code",
   "execution_count": 17,
   "metadata": {},
   "outputs": [
    {
     "data": {
      "image/png": "[encoded data removed]",
      "text/plain": [
       "<matplotlib.figure.Figure at 0x112144b70>"
      ]
     },
     "metadata": {},
     "output_type": "display_data"
    }
   ],
   "source": [
    "fig = plt.gcf()\n",
    "fig.set_size_inches(3, 2.2)\n",
    "import matplotlib\n",
    "matplotlib.rc('xtick', labelsize=12) \n",
    "matplotlib.rc('ytick', labelsize=12)\n",
    "\n",
    "plt.scatter(([0.1,1.1,2.1,3.1,4.1,5.1,6.1,7.1]), dw0*1000)\n",
    "plt.grid()\n",
    "plt.xlabel(\"Time [Myrs]\", fontsize=12)\n",
    "plt.ylabel(\"On-axis deflection [m]\", fontsize=12)\n",
    "plt.show()\n",
    "fig.savefig(resources_path+'EP-H21-C40-axis.pdf', dpi=300)"
   ]
  },
  {
   "cell_type": "code",
   "execution_count": 18,
   "metadata": {},
   "outputs": [
    {
     "data": {
      "text/plain": [
       "-96.408545970916748"
      ]
     },
     "execution_count": 18,
     "metadata": {},
     "output_type": "execute_result"
    }
   ],
   "source": [
    "# take the steady dw0 and calc the average (from 3)\n",
    "N_steady = 5 # from the figure plot\n",
    "dw0_avg = sum(dw0[N_steady:]) / len(dw0[N_steady:]) * 1000\n",
    "dw0_avg"
   ]
  },
  {
   "cell_type": "code",
   "execution_count": 19,
   "metadata": {},
   "outputs": [
    {
     "data": {
      "image/png": "[encoded data removed]",
      "text/plain": [
       "<matplotlib.figure.Figure at 0x112ed4b70>"
      ]
     },
     "metadata": {},
     "output_type": "display_data"
    }
   ],
   "source": [
    "for i in range(N_SDR):\n",
    "    plt.plot(list_data_x[i],list_data_dx[i])\n",
    "plt.show()"
   ]
  },
  {
   "cell_type": "code",
   "execution_count": 20,
   "metadata": {},
   "outputs": [
    {
     "data": {
      "text/plain": [
       "21000.0"
      ]
     },
     "execution_count": 20,
     "metadata": {},
     "output_type": "execute_result"
    }
   ],
   "source": [
    "int(Plate_thickness)*1000."
   ]
  },
  {
   "cell_type": "code",
   "execution_count": 21,
   "metadata": {
    "collapsed": true
   },
   "outputs": [],
   "source": [
    "# compare with analytic results\n",
    "Hd = int(Plate_thickness)*1000.;              #[m] height of the dike\n",
    "Te = int(Plate_thickness)*1000.;              #[m] effective plate thickness\n",
    "g = 10.;                 #[m/s**2] gravitational acceleration\n",
    "rho_d = 3000.;           #[kg/m**3] density of the solidified dike\n",
    "rho_f = 2800.;           #[kg/m**3] density of the fluid dike\n",
    "delta_rho_d = rho_d - rho_f;\n",
    "rho_i_sedi = 2300.;\n",
    "rho_i = 2800.;           #[kg/m**3] density of the infill\n",
    "rho_c = 3000.;           #[kg/m**3] density of the underlying lower crust or mantle\n",
    "sediment = 0;  # whether infill is sedi or lava  (1 means sedi)\n",
    "if sediment == 1:\n",
    "    delta_rho_c = rho_c - rho_i_sedi;\n",
    "else:\n",
    "    delta_rho_c = rho_c - rho_i;\n",
    "\n",
    "\n",
    "E = 7.5 * 10.**10.;          #[Pa] Young's modulus; for lame constants of 30GPa\n",
    "mu = 0.25;              # Poisson's ratio\n",
    "D = (E * Te**3.) / (12 * (1 - mu**2.)); #[N*m] Flexural rigidity\n",
    "alpha = (4. * D / (delta_rho_c * g))**0.25;#[m] Flexural wavelength\n",
    "dx = dt_step / yr_in_Myr * 10. * 1000.  # [m] width of dike injection within one dt of 20kyr\n",
    "dV_0 = dx * g * Hd * delta_rho_d; #[N/m] volcanic line load due to denser dike\n",
    "dW_0 = 2 * dV_0 / (alpha * g * delta_rho_c)"
   ]
  },
  {
   "cell_type": "code",
   "execution_count": 22,
   "metadata": {},
   "outputs": [
    {
     "data": {
      "text/plain": [
       "200.0"
      ]
     },
     "execution_count": 22,
     "metadata": {},
     "output_type": "execute_result"
    }
   ],
   "source": [
    "dx"
   ]
  },
  {
   "cell_type": "code",
   "execution_count": 23,
   "metadata": {},
   "outputs": [
    {
     "data": {
      "text/plain": [
       "79.6856520746051"
      ]
     },
     "execution_count": 23,
     "metadata": {},
     "output_type": "execute_result"
    }
   ],
   "source": [
    "\n",
    "dW_0"
   ]
  },
  {
   "cell_type": "code",
   "execution_count": 24,
   "metadata": {},
   "outputs": [
    {
     "data": {
      "text/plain": [
       "105414.20922471164"
      ]
     },
     "execution_count": 24,
     "metadata": {},
     "output_type": "execute_result"
    }
   ],
   "source": [
    "alpha"
   ]
  },
  {
   "cell_type": "code",
   "execution_count": 25,
   "metadata": {},
   "outputs": [
    {
     "data": {
      "text/plain": [
       "0.96661364307609698"
      ]
     },
     "execution_count": 25,
     "metadata": {},
     "output_type": "execute_result"
    }
   ],
   "source": [
    "np.exp(-xx_avg / alpha)* np.cos(xx_avg / alpha)"
   ]
  },
  {
   "cell_type": "code",
   "execution_count": 26,
   "metadata": {},
   "outputs": [
    {
     "data": {
      "text/plain": [
       "-96.408545970916748"
      ]
     },
     "execution_count": 26,
     "metadata": {},
     "output_type": "execute_result"
    }
   ],
   "source": [
    "dw0_avg"
   ]
  },
  {
   "cell_type": "code",
   "execution_count": 27,
   "metadata": {
    "collapsed": true
   },
   "outputs": [],
   "source": [
    "# # using scypy to solve\n",
    "# import sympy as sp\n",
    "# from sympy.solvers import solve\n",
    "# from sympy import Symbol\n",
    "# alpha_n = Symbol('alpha_n')\n",
    "# eq = dw0_avg - 2 * dV_0 / (alpha_n * g * delta_rho_c) \\\n",
    "#     * sp.exp(-xx_avg / alpha_n) * sp.cos(xx_avg / alpha_n)\n",
    "# solve(eq, alpha_n)"
   ]
  },
  {
   "cell_type": "code",
   "execution_count": 28,
   "metadata": {},
   "outputs": [
    {
     "data": {
      "text/plain": [
       "-96.408545970916748"
      ]
     },
     "execution_count": 28,
     "metadata": {},
     "output_type": "execute_result"
    }
   ],
   "source": [
    "dw0_avg"
   ]
  },
  {
   "cell_type": "code",
   "execution_count": 29,
   "metadata": {},
   "outputs": [
    {
     "data": {
      "text/plain": [
       "3520.683765411377"
      ]
     },
     "execution_count": 29,
     "metadata": {},
     "output_type": "execute_result"
    }
   ],
   "source": [
    "xx_avg"
   ]
  },
  {
   "cell_type": "code",
   "execution_count": 30,
   "metadata": {},
   "outputs": [
    {
     "data": {
      "text/plain": [
       "8400000000.0"
      ]
     },
     "execution_count": 30,
     "metadata": {},
     "output_type": "execute_result"
    }
   ],
   "source": [
    "dV_0"
   ]
  },
  {
   "cell_type": "code",
   "execution_count": 31,
   "metadata": {},
   "outputs": [
    {
     "data": {
      "image/png": "[encoded data removed]",
      "text/plain": [
       "<matplotlib.figure.Figure at 0x11306ef28>"
      ]
     },
     "metadata": {},
     "output_type": "display_data"
    }
   ],
   "source": [
    "from scipy.optimize import fsolve\n",
    "func = lambda alpha_n: \\\n",
    "        -dw0_avg - 2 * dV_0 / (alpha_n * g * delta_rho_c) \\\n",
    "         * np.exp(-xx_avg / alpha_n) * np.cos(xx_avg / alpha_n)\n",
    "#plot\n",
    "# Plot it\n",
    "\n",
    "alpha_n = np.linspace(alpha/10, alpha, 201)\n",
    "\n",
    "plt.plot(alpha_n, func(alpha_n))\n",
    "plt.xlabel(\"alpha\")\n",
    "plt.ylabel(\"expression value\")\n",
    "plt.grid()\n",
    "plt.show()\n",
    "\n",
    "alpha_n_initial_guess = alpha\n",
    "alpha_n_solution = fsolve(func, alpha_n_initial_guess)"
   ]
  },
  {
   "cell_type": "code",
   "execution_count": 32,
   "metadata": {},
   "outputs": [
    {
     "data": {
      "text/plain": [
       "array([ 83455.6843464])"
      ]
     },
     "execution_count": 32,
     "metadata": {},
     "output_type": "execute_result"
    }
   ],
   "source": [
    "alpha_n_solution"
   ]
  },
  {
   "cell_type": "code",
   "execution_count": 33,
   "metadata": {
    "collapsed": true
   },
   "outputs": [],
   "source": [
    "Te_n = (alpha_n_solution / (E / (3*delta_rho_c*g*(1-mu**2)))**0.25)**(4/3.)"
   ]
  },
  {
   "cell_type": "code",
   "execution_count": 34,
   "metadata": {},
   "outputs": [
    {
     "data": {
      "text/plain": [
       "array([ 15380.18826089])"
      ]
     },
     "execution_count": 34,
     "metadata": {},
     "output_type": "execute_result"
    }
   ],
   "source": [
    "Te_n"
   ]
  },
  {
   "cell_type": "code",
   "execution_count": 35,
   "metadata": {
    "collapsed": true
   },
   "outputs": [],
   "source": [
    "H = [0,6,8,10,12,15,18,21]\n",
    "HH = [0,21]"
   ]
  },
  {
   "cell_type": "code",
   "execution_count": 37,
   "metadata": {
    "collapsed": true
   },
   "outputs": [],
   "source": [
    "Te_xf = [0,2.19,3.11,4.2,5.24,7.12,9.19,10.41]\n",
    "Te_gamma = [0,2.2,3.25,4.37,5.58,7.51,9.58,11.76]\n",
    "Te_dx0 = [0,2.06,3.03,4.08,5.36,7.08,9.19,10.8]\n",
    "Hd_array = [0,4.95,6.52,8.15,9.7,12.2,14.7,16.6]\n",
    "Te_sum = [Te_xf[i]+Te_gamma[i]+Te_dx0[i] for i in range(len(Te_xf))]\n",
    "Te_avg = [x / 3.0 for x in Te_sum]"
   ]
  },
  {
   "cell_type": "code",
   "execution_count": 38,
   "metadata": {
    "collapsed": true
   },
   "outputs": [],
   "source": [
    "Te = Te_avg"
   ]
  },
  {
   "cell_type": "code",
   "execution_count": 39,
   "metadata": {
    "collapsed": true
   },
   "outputs": [],
   "source": [
    "#Te = [0,2.832,4.164,5.545,7.325,9.530,12.243,15.076]\n",
    "#TeC = [0,2.992,4.547,6.062,7.558,10.073,12.754,15.552]"
   ]
  },
  {
   "cell_type": "code",
   "execution_count": 40,
   "metadata": {
    "collapsed": true
   },
   "outputs": [],
   "source": [
    "polyP = np.polyfit(H,Te,3)\n",
    "polyP_func = np.poly1d(polyP)\n",
    "#polyPC = np.polyfit(H,TeC,3)\n",
    "#polyPC_func = np.poly1d(polyPC)"
   ]
  },
  {
   "cell_type": "code",
   "execution_count": 41,
   "metadata": {},
   "outputs": [
    {
     "data": {
      "text/plain": [
       "array([-0.00057115,  0.02705161,  0.20878668,  0.01012686])"
      ]
     },
     "execution_count": 41,
     "metadata": {},
     "output_type": "execute_result"
    }
   ],
   "source": [
    "polyP"
   ]
  },
  {
   "cell_type": "code",
   "execution_count": 42,
   "metadata": {
    "collapsed": true
   },
   "outputs": [],
   "source": [
    "xp = np.linspace(0,22,500)\n",
    "Tep = polyP_func(xp)\n",
    "#TepC = polyPC_func(xp)"
   ]
  },
  {
   "cell_type": "code",
   "execution_count": 1,
   "metadata": {},
   "outputs": [
    {
     "ename": "NameError",
     "evalue": "name 'plt' is not defined",
     "output_type": "error",
     "traceback": [
      "\u001b[0;31m---------------------------------------------------------------------------\u001b[0m",
      "\u001b[0;31mNameError\u001b[0m                                 Traceback (most recent call last)",
      "\u001b[0;32m<ipython-input-1-68364c4d5dd9>\u001b[0m in \u001b[0;36m<module>\u001b[0;34m()\u001b[0m\n\u001b[0;32m----> 1\u001b[0;31m \u001b[0mfig\u001b[0m \u001b[0;34m=\u001b[0m \u001b[0mplt\u001b[0m\u001b[0;34m.\u001b[0m\u001b[0mgcf\u001b[0m\u001b[0;34m(\u001b[0m\u001b[0;34m)\u001b[0m\u001b[0;34m\u001b[0m\u001b[0m\n\u001b[0m\u001b[1;32m      2\u001b[0m \u001b[0mfig\u001b[0m\u001b[0;34m.\u001b[0m\u001b[0mset_size_inches\u001b[0m\u001b[0;34m(\u001b[0m\u001b[0;36m12\u001b[0m\u001b[0;34m,\u001b[0m \u001b[0;36m6\u001b[0m\u001b[0;34m)\u001b[0m\u001b[0;34m\u001b[0m\u001b[0m\n\u001b[1;32m      3\u001b[0m \u001b[0mplt\u001b[0m\u001b[0;34m.\u001b[0m\u001b[0mplot\u001b[0m\u001b[0;34m(\u001b[0m\u001b[0mHH\u001b[0m\u001b[0;34m,\u001b[0m\u001b[0mHH\u001b[0m\u001b[0;34m,\u001b[0m\u001b[0;34m'b-'\u001b[0m\u001b[0;34m,\u001b[0m\u001b[0mlinewidth\u001b[0m\u001b[0;34m=\u001b[0m\u001b[0;36m2\u001b[0m\u001b[0;34m,\u001b[0m\u001b[0mlabel\u001b[0m\u001b[0;34m=\u001b[0m\u001b[0;34m\"Elastic plate\"\u001b[0m\u001b[0;34m)\u001b[0m\u001b[0;34m\u001b[0m\u001b[0m\n\u001b[1;32m      4\u001b[0m \u001b[0;34m\u001b[0m\u001b[0m\n\u001b[1;32m      5\u001b[0m \u001b[0;31m#plt.plot(xp,TepC,'r-.',linewidth=3,label=\"polyfit Coh = 40 MPa\")\u001b[0m\u001b[0;34m\u001b[0m\u001b[0;34m\u001b[0m\u001b[0m\n",
      "\u001b[0;31mNameError\u001b[0m: name 'plt' is not defined"
     ]
    }
   ],
   "source": [
    "fig = plt.gcf()\n",
    "fig.set_size_inches(12, 6)\n",
    "plt.plot(HH,HH,'b-',linewidth=2,label=\"Elastic plate\")\n",
    "\n",
    "#plt.plot(xp,TepC,'r-.',linewidth=3,label=\"polyfit Coh = 40 MPa\")\n",
    "#plt.plot(H,TeC,'ro',markersize=15,label=\"Cohesion = 40 MPa\")\n",
    "#plt.plot(H,Te,'ko',markersize=12,label=\"Cohesion = 20 MPa\" )\n",
    "\n",
    "plt.plot(xp,Tep,'k--',linewidth=5,label=\"$polyfit$ $Te_{avg}$ $Coh = 20 MPa$\")\n",
    "#plt.plot(xp,y_test,'r-.',linewidth=6,label=\"polyfit Te_avg\")\n",
    "plot1,=plt.plot(H[1:],Te_dx0[1:],'kp',markersize=36,label='$Te_{eff}$ from $\\delta W_0$' )\n",
    "plt.plot(H[1:],Te_xf[1:],'rs',markersize=20,label=\"$Te_{eff}$ from $X_f$\" )\n",
    "plt.plot(H[1:],Te_gamma[1:],'g^',markersize=20,label=\"$Te_{eff}$ from $\\gamma$\" )\n",
    "#plt.plot(H,Hd_array,'m8',markersize=20,label=\"Hd_eff\" )\n",
    "\n",
    "#plt.title(\"Effective Te w.r.t. original plate thickness H\",fontsize=20)\n",
    "plt.xlabel(\"H [km]\",fontsize=20)\n",
    "plt.ylabel(\"Effective Te [km]\",fontsize=20)\n",
    "plt.grid()\n",
    "plt.axis([0,22, 0, 22])\n",
    "plt.legend(loc=2,fontsize=16)\n",
    "plt.show()\n",
    "import matplotlib\n",
    "matplotlib.rc('xtick', labelsize=20) \n",
    "matplotlib.rc('ytick', labelsize=20)\n",
    "\n",
    "fig.savefig(resources_path+'EP-Te_H-$-updated.pdf', dpi=300)"
   ]
  },
  {
   "cell_type": "code",
   "execution_count": 53,
   "metadata": {},
   "outputs": [
    {
     "data": {
      "text/plain": [
       "'/Users/Tian/Documents/Thesis_Columbia/!SDR_manuscript/manuscript-2018/figures/resources/'"
      ]
     },
     "execution_count": 53,
     "metadata": {},
     "output_type": "execute_result"
    }
   ],
   "source": [
    "resources_path"
   ]
  },
  {
   "cell_type": "code",
   "execution_count": 43,
   "metadata": {},
   "outputs": [
    {
     "data": {
      "text/plain": [
       "'/Users/Tian/Documents/Thesis/Vts_data/TianHe2/20170920/python-scripts'"
      ]
     },
     "execution_count": 43,
     "metadata": {},
     "output_type": "execute_result"
    }
   ],
   "source": [
    "pwd"
   ]
  },
  {
   "cell_type": "code",
   "execution_count": 55,
   "metadata": {},
   "outputs": [
    {
     "data": {
      "image/png": "[encoded data removed]",
      "text/plain": [
       "<matplotlib.figure.Figure at 0x115f29b00>"
      ]
     },
     "metadata": {},
     "output_type": "display_data"
    }
   ],
   "source": [
    "fig = plt.gcf()\n",
    "fig.set_size_inches(12, 6)\n",
    "\n",
    "plt.plot(xp[1:],Tep[1:]/xp[1:]*100,'k-',linewidth=5,label=\"Cohesion = 20 MPa\")\n",
    "plt.plot(xp[1:],TepC[1:]/xp[1:]*100,'r-.',linewidth=5,label=\"Cohesion = 40 MPa\")\n",
    "plt.title(\"Percentage of effective strength Te to original thickness H\",fontsize=20)\n",
    "plt.xlabel(\"H [km]\",fontsize=20)\n",
    "plt.ylabel(\"percent %\",fontsize=20)\n",
    "plt.grid()\n",
    "plt.axis([0,22, 10, 80])\n",
    "plt.legend(loc=4,fontsize=20)\n",
    "plt.show()\n",
    "import matplotlib\n",
    "matplotlib.rc('xtick', labelsize=20) \n",
    "matplotlib.rc('ytick', labelsize=20)\n",
    "\n",
    "fig.savefig(resources_path+'EP-Te_H_percentage-$.pdf', dpi=300)"
   ]
  },
  {
   "cell_type": "code",
   "execution_count": 98,
   "metadata": {
    "collapsed": true
   },
   "outputs": [],
   "source": [
    "# Get data for SDR Te data\n",
    "#----------------------------\n",
    "SDR_file_path=(\"/Users/Tian/Documents/Thesis_Columbia/!SDR_manuscript/\"+\n",
    "               \"Real-Data_analysis/global_Te/gmt/global-SDRs/etopo5/\")\n",
    "\n",
    "SDR_data = open(SDR_file_path+\"data.txt\",'r')\n",
    "\n",
    "#print(SDR_data.read())\n",
    "Te_data = np.genfromtxt(SDR_file_path+\"data.txt\", delimiter=\" \")\n",
    "#Te_data = np.fromfile(SDR_data, dtype=np.single)\n",
    "SDR_data.close()\n",
    "#data_matrix = data.reshape((num_particles, 2, time_steps), order='F')\n",
    "#data_matrix_x = data_matrix[:,0,:]"
   ]
  },
  {
   "cell_type": "code",
   "execution_count": 99,
   "metadata": {},
   "outputs": [
    {
     "data": {
      "text/plain": [
       "array([[ -57.   ,  -42.   ,    3.6  ],\n",
       "       [ -58.   ,  -43.   ,    3.6  ],\n",
       "       [ -56.   ,  -41.   ,    2.5  ],\n",
       "       [ -55.   ,  -40.   ,    1.4  ],\n",
       "       [ -52.   ,  -37.   ,    1.9  ],\n",
       "       [ -57.5  ,  -43.8  ,    4.8  ],\n",
       "       [ -57.   ,  -43.5  ,    6.9  ],\n",
       "       [ -57.   ,  -43.   ,    8.3  ],\n",
       "       [ -56.5  ,  -42.5  ,    4.8  ],\n",
       "       [ -57.   ,  -41.5  ,    6.2  ],\n",
       "       [ -42.   ,   62.   ,    4.8  ],\n",
       "       [   3.   ,   67.2  ,    1.4  ],\n",
       "       [   5.   ,   66.   ,    7.6  ],\n",
       "       [  -0.5  ,   63.   ,    2.5  ],\n",
       "       [ -42.   ,   61.   ,    7.6  ],\n",
       "       [  66.   ,   20.   ,   10.7  ],\n",
       "       [ -55.   ,   40.5  ,    0.9  ],\n",
       "       [ -75.   ,   36.   ,    6.2  ],\n",
       "       [ -53.   ,  -35.   ,    3.6  ],\n",
       "       [  16.   ,  -32.   ,    7.6  ],\n",
       "       [  15.   ,  -29.   ,    7.6  ],\n",
       "       [  12.5  ,  -14.5  ,    3.   ],\n",
       "       [ -36.   ,  -12.   ,    0.726],\n",
       "       [ -20.   ,   75.   ,    8.36 ],\n",
       "       [ 115.   ,  -20.   ,    0.978],\n",
       "       [ -52.   ,  -38.   ,    3.6  ],\n",
       "       [ -48.   ,  -30.   ,    4.869],\n",
       "       [   3.   ,   67.   ,    2.5  ],\n",
       "       [ 120.   ,  -62.   ,    3.6  ],\n",
       "       [ 125.   ,  -65.   ,    3.6  ],\n",
       "       [ 130.   ,  -64.   ,    1.5  ]])"
      ]
     },
     "execution_count": 99,
     "metadata": {},
     "output_type": "execute_result"
    }
   ],
   "source": [
    "Te_data"
   ]
  },
  {
   "cell_type": "code",
   "execution_count": 110,
   "metadata": {
    "collapsed": true
   },
   "outputs": [],
   "source": [
    "Te_all = Te_data[:,2]"
   ]
  },
  {
   "cell_type": "code",
   "execution_count": 122,
   "metadata": {},
   "outputs": [
    {
     "data": {
      "text/plain": [
       "array([  3.6  ,   3.6  ,   2.5  ,   1.4  ,   1.9  ,   4.8  ,   6.9  ,\n",
       "         8.3  ,   4.8  ,   6.2  ,   4.8  ,   1.4  ,   7.6  ,   2.5  ,\n",
       "         7.6  ,  10.7  ,   0.9  ,   6.2  ,   3.6  ,   7.6  ,   7.6  ,\n",
       "         3.   ,   0.726,   8.36 ,   0.978,   3.6  ,   4.869,   2.5  ,\n",
       "         3.6  ,   3.6  ,   1.5  ])"
      ]
     },
     "execution_count": 122,
     "metadata": {},
     "output_type": "execute_result"
    }
   ],
   "source": [
    "Te_all"
   ]
  },
  {
   "cell_type": "code",
   "execution_count": 121,
   "metadata": {},
   "outputs": [
    {
     "data": {
      "text/plain": [
       "31"
      ]
     },
     "execution_count": 121,
     "metadata": {},
     "output_type": "execute_result"
    }
   ],
   "source": [
    "len(Te_all)"
   ]
  },
  {
   "cell_type": "code",
   "execution_count": 131,
   "metadata": {
    "collapsed": true
   },
   "outputs": [],
   "source": [
    "list_Te_flac = []\n",
    "\n",
    "for i in range(len(Te_all)):\n",
    "    for H in (polyP_func - Te_all[i]).roots:\n",
    "        if H < 30 and H>0:\n",
    "            #print(H)\n",
    "            list_Te_flac.append(H)"
   ]
  },
  {
   "cell_type": "code",
   "execution_count": 152,
   "metadata": {
    "collapsed": true
   },
   "outputs": [],
   "source": [
    "len(list_Te_flac)\n",
    "array_Te_flac = np.array(list_Te_flac)"
   ]
  },
  {
   "cell_type": "code",
   "execution_count": 159,
   "metadata": {},
   "outputs": [
    {
     "data": {
      "text/plain": [
       "array([  7.14443   ,   7.14443   ,   5.36365697,   3.33690471,\n",
       "         4.29724423,   8.90813497,  11.70580798,  13.43407053,\n",
       "         8.90813497,  10.8052957 ,   8.90813497,   3.33690471,\n",
       "        12.58082399,   5.36365697,  12.58082399,  16.2326787 ,\n",
       "         2.28826253,  10.8052957 ,   7.14443   ,  12.58082399,\n",
       "        12.58082399,   6.19694898,   1.8964827 ,  13.50629656,\n",
       "         2.45891649,   7.14443   ,   9.00520201,   5.36365697,\n",
       "         7.14443   ,   7.14443   ,   3.53517547])"
      ]
     },
     "execution_count": 159,
     "metadata": {},
     "output_type": "execute_result"
    }
   ],
   "source": [
    "array_Te_flac"
   ]
  },
  {
   "cell_type": "code",
   "execution_count": 162,
   "metadata": {},
   "outputs": [
    {
     "data": {
      "text/plain": [
       "(31,)"
      ]
     },
     "execution_count": 162,
     "metadata": {},
     "output_type": "execute_result"
    }
   ],
   "source": [
    "np.shape(np.transpose(array_Te_flac))"
   ]
  },
  {
   "cell_type": "code",
   "execution_count": 158,
   "metadata": {},
   "outputs": [
    {
     "data": {
      "text/plain": [
       "array([[ -57.   ,  -42.   ,    3.6  ],\n",
       "       [ -58.   ,  -43.   ,    3.6  ],\n",
       "       [ -56.   ,  -41.   ,    2.5  ],\n",
       "       [ -55.   ,  -40.   ,    1.4  ],\n",
       "       [ -52.   ,  -37.   ,    1.9  ],\n",
       "       [ -57.5  ,  -43.8  ,    4.8  ],\n",
       "       [ -57.   ,  -43.5  ,    6.9  ],\n",
       "       [ -57.   ,  -43.   ,    8.3  ],\n",
       "       [ -56.5  ,  -42.5  ,    4.8  ],\n",
       "       [ -57.   ,  -41.5  ,    6.2  ],\n",
       "       [ -42.   ,   62.   ,    4.8  ],\n",
       "       [   3.   ,   67.2  ,    1.4  ],\n",
       "       [   5.   ,   66.   ,    7.6  ],\n",
       "       [  -0.5  ,   63.   ,    2.5  ],\n",
       "       [ -42.   ,   61.   ,    7.6  ],\n",
       "       [  66.   ,   20.   ,   10.7  ],\n",
       "       [ -55.   ,   40.5  ,    0.9  ],\n",
       "       [ -75.   ,   36.   ,    6.2  ],\n",
       "       [ -53.   ,  -35.   ,    3.6  ],\n",
       "       [  16.   ,  -32.   ,    7.6  ],\n",
       "       [  15.   ,  -29.   ,    7.6  ],\n",
       "       [  12.5  ,  -14.5  ,    3.   ],\n",
       "       [ -36.   ,  -12.   ,    0.726],\n",
       "       [ -20.   ,   75.   ,    8.36 ],\n",
       "       [ 115.   ,  -20.   ,    0.978],\n",
       "       [ -52.   ,  -38.   ,    3.6  ],\n",
       "       [ -48.   ,  -30.   ,    4.869],\n",
       "       [   3.   ,   67.   ,    2.5  ],\n",
       "       [ 120.   ,  -62.   ,    3.6  ],\n",
       "       [ 125.   ,  -65.   ,    3.6  ],\n",
       "       [ 130.   ,  -64.   ,    1.5  ]])"
      ]
     },
     "execution_count": 158,
     "metadata": {},
     "output_type": "execute_result"
    }
   ],
   "source": [
    "Te_data"
   ]
  },
  {
   "cell_type": "code",
   "execution_count": 157,
   "metadata": {},
   "outputs": [
    {
     "data": {
      "text/plain": [
       "(31, 3)"
      ]
     },
     "execution_count": 157,
     "metadata": {},
     "output_type": "execute_result"
    }
   ],
   "source": [
    "np.shape(Te_data)\n",
    "#np.shape(list_Te_flac)"
   ]
  },
  {
   "cell_type": "code",
   "execution_count": 171,
   "metadata": {
    "collapsed": true
   },
   "outputs": [],
   "source": [
    "num_column = np.shape(Te_data)[1]+1\n",
    "num_row = np.shape(Te_data)[0]"
   ]
  },
  {
   "cell_type": "code",
   "execution_count": 191,
   "metadata": {
    "collapsed": true
   },
   "outputs": [],
   "source": [
    "Te_data_flac = np.zeros(np.shape(Te_data))"
   ]
  },
  {
   "cell_type": "code",
   "execution_count": 176,
   "metadata": {
    "collapsed": true
   },
   "outputs": [],
   "source": [
    "Te_data_all = np.zeros((num_row,num_column))"
   ]
  },
  {
   "cell_type": "code",
   "execution_count": 180,
   "metadata": {
    "collapsed": true
   },
   "outputs": [],
   "source": [
    "Te_data_all[:,0:3]  = Te_data"
   ]
  },
  {
   "cell_type": "code",
   "execution_count": 192,
   "metadata": {
    "collapsed": true
   },
   "outputs": [],
   "source": [
    "Te_data_flac[:,0:2] = Te_data[:,0:2]\n",
    "Te_data_flac[:,2] = array_Te_flac"
   ]
  },
  {
   "cell_type": "code",
   "execution_count": 184,
   "metadata": {
    "collapsed": true
   },
   "outputs": [],
   "source": [
    "Te_data_all[:,3] = array_Te_flac"
   ]
  },
  {
   "cell_type": "code",
   "execution_count": 185,
   "metadata": {},
   "outputs": [
    {
     "data": {
      "text/plain": [
       "array([[ -57.        ,  -42.        ,    3.6       ,    7.14443   ],\n",
       "       [ -58.        ,  -43.        ,    3.6       ,    7.14443   ],\n",
       "       [ -56.        ,  -41.        ,    2.5       ,    5.36365697],\n",
       "       [ -55.        ,  -40.        ,    1.4       ,    3.33690471],\n",
       "       [ -52.        ,  -37.        ,    1.9       ,    4.29724423],\n",
       "       [ -57.5       ,  -43.8       ,    4.8       ,    8.90813497],\n",
       "       [ -57.        ,  -43.5       ,    6.9       ,   11.70580798],\n",
       "       [ -57.        ,  -43.        ,    8.3       ,   13.43407053],\n",
       "       [ -56.5       ,  -42.5       ,    4.8       ,    8.90813497],\n",
       "       [ -57.        ,  -41.5       ,    6.2       ,   10.8052957 ],\n",
       "       [ -42.        ,   62.        ,    4.8       ,    8.90813497],\n",
       "       [   3.        ,   67.2       ,    1.4       ,    3.33690471],\n",
       "       [   5.        ,   66.        ,    7.6       ,   12.58082399],\n",
       "       [  -0.5       ,   63.        ,    2.5       ,    5.36365697],\n",
       "       [ -42.        ,   61.        ,    7.6       ,   12.58082399],\n",
       "       [  66.        ,   20.        ,   10.7       ,   16.2326787 ],\n",
       "       [ -55.        ,   40.5       ,    0.9       ,    2.28826253],\n",
       "       [ -75.        ,   36.        ,    6.2       ,   10.8052957 ],\n",
       "       [ -53.        ,  -35.        ,    3.6       ,    7.14443   ],\n",
       "       [  16.        ,  -32.        ,    7.6       ,   12.58082399],\n",
       "       [  15.        ,  -29.        ,    7.6       ,   12.58082399],\n",
       "       [  12.5       ,  -14.5       ,    3.        ,    6.19694898],\n",
       "       [ -36.        ,  -12.        ,    0.726     ,    1.8964827 ],\n",
       "       [ -20.        ,   75.        ,    8.36      ,   13.50629656],\n",
       "       [ 115.        ,  -20.        ,    0.978     ,    2.45891649],\n",
       "       [ -52.        ,  -38.        ,    3.6       ,    7.14443   ],\n",
       "       [ -48.        ,  -30.        ,    4.869     ,    9.00520201],\n",
       "       [   3.        ,   67.        ,    2.5       ,    5.36365697],\n",
       "       [ 120.        ,  -62.        ,    3.6       ,    7.14443   ],\n",
       "       [ 125.        ,  -65.        ,    3.6       ,    7.14443   ],\n",
       "       [ 130.        ,  -64.        ,    1.5       ,    3.53517547]])"
      ]
     },
     "execution_count": 185,
     "metadata": {},
     "output_type": "execute_result"
    }
   ],
   "source": [
    "Te_data_all"
   ]
  },
  {
   "cell_type": "code",
   "execution_count": 187,
   "metadata": {
    "collapsed": true
   },
   "outputs": [],
   "source": [
    "fname = 'Te_data_all.txt'\n",
    "np.savetxt(fname, Te_data_all, delimiter=' ', newline='\\n')"
   ]
  },
  {
   "cell_type": "code",
   "execution_count": 193,
   "metadata": {
    "collapsed": true
   },
   "outputs": [],
   "source": [
    "fname = 'Te_data_flac.txt'\n",
    "np.savetxt(fname, Te_data_flac, delimiter=' ', newline='\\n')"
   ]
  },
  {
   "cell_type": "code",
   "execution_count": 23,
   "metadata": {},
   "outputs": [
    {
     "data": {
      "image/png": "[encoded data removed]",
      "text/plain": [
       "<matplotlib.figure.Figure at 0x114baf860>"
      ]
     },
     "metadata": {},
     "output_type": "display_data"
    }
   ],
   "source": [
    "\n",
    "import os\n",
    "import numpy as np\n",
    "import math \n",
    "import matplotlib.pyplot as plt\n",
    "import scipy.stats\n",
    "resources_path=\"/Users/Tian/Documents/Thesis_Columbia/SDR_manuscript/manuscript-2018/figures/resources/\"\n",
    "\n",
    "\n",
    "\n",
    "H = [0,6,8,10,12,15,18,21]\n",
    "HH = [0,22]\n",
    "Te_xf = [0,2.19,3.11,4.2,5.24,7.12,9.19,10.41]\n",
    "Te_gamma = [0,2.2,3.25,4.37,5.58,7.51,9.58,11.76]\n",
    "#Te_dx0 = [0,2.06,3.03,4.08,5.36,7.08,9.19,10.8]\n",
    "#Hd_array = [0,4.95,6.52,8.15,9.7,12.2,14.7,16.6]\n",
    "Te_sum = [Te_xf[i]+Te_gamma[i] for i in range(len(Te_xf))]\n",
    "Te_avg = [x / 2.0 for x in Te_sum]\n",
    "Te = Te_avg\n",
    "\n",
    "polyP = np.polyfit(H,Te,1)\n",
    "polyP2 = ([0.4931,0])\n",
    "polyP_func = np.poly1d(polyP)\n",
    "polyP_func2 = np.poly1d(polyP2)\n",
    "xp = np.linspace(0,22,500)\n",
    "Tep = polyP_func(xp)\n",
    "Tep2 = polyP_func2(xp)\n",
    "\n",
    "fig = plt.gcf()\n",
    "fig.set_size_inches(12, 6)\n",
    "plt.plot(HH,HH,'c-.',linewidth=2,label=\"Elastic thin plate\")\n",
    "\n",
    "#plt.plot(xp,Tep,'k--',linewidth=5,label=\"$polyfit$ $Te_{avg}$ $Coh = 20 MPa$\")\n",
    "plt.plot(xp,Tep2,'k-.',linewidth=2,label=\"Linear fit $Te_{avg}$\")\n",
    "plt.plot(H[1:],Te[1:],'ko',markersize=22,label=\"$Te_{avg}$\" )\n",
    "plt.plot(H[1:],Te_xf[1:],'r*',markersize=20,label=\"$Te_{X_f}$\" )\n",
    "plt.plot(H[1:],Te_gamma[1:],'g^',markersize=12,label=\"$Te_{\\gamma}$\" )\n",
    "#plt.plot(H,Hd_array,'m8',markersize=20,label=\"Hd_eff\" )\n",
    "\n",
    "#plt.title(\"Effective Te w.r.t. original plate thickness H\",fontsize=20)\n",
    "plt.xlabel(\"$H_L [km]$\",fontsize=20)\n",
    "plt.ylabel(\"Te [km]\",fontsize=20)\n",
    "plt.grid(alpha=0.28)\n",
    "\n",
    "plt.axis([0,22, 0, 22])\n",
    "plt.legend(loc=2,fontsize=16)\n",
    "plt.text(17.,6.5, r'$Te = 0.49 \\times H_{L}$', fontsize=20)\n",
    "plt.text(17.,5, r'$R^{2} = 0.97$', fontsize=18)\n",
    "plt.xticks(np.arange(min(H), max(H), 2))\n",
    "plt.yticks(np.arange(min(H), 22, 2))\n",
    "plt.show()\n",
    "import matplotlib\n",
    "matplotlib.rc('xtick', labelsize=18) \n",
    "matplotlib.rc('ytick', labelsize=18)\n",
    "\n",
    "fig.savefig(resources_path+'EP-Te_H-$-linear.pdf', dpi=300)"
   ]
  },
  {
   "cell_type": "code",
   "execution_count": 30,
   "metadata": {},
   "outputs": [
    {
     "data": {
      "text/plain": [
       "'/Users/Tian/Documents/Thesis_Columbia/SDR_manuscript/manuscript-2018/figures/resources/'"
      ]
     },
     "execution_count": 30,
     "metadata": {},
     "output_type": "execute_result"
    }
   ],
   "source": [
    "resources_path"
   ]
  },
  {
   "cell_type": "code",
   "execution_count": 6,
   "metadata": {},
   "outputs": [
    {
     "data": {
      "text/plain": [
       "[0.0,\n",
       " 2.1950000000000003,\n",
       " 3.1799999999999997,\n",
       " 4.285,\n",
       " 5.41,\n",
       " 7.3149999999999995,\n",
       " 9.385,\n",
       " 11.085]"
      ]
     },
     "execution_count": 6,
     "metadata": {},
     "output_type": "execute_result"
    }
   ],
   "source": [
    "Te"
   ]
  },
  {
   "cell_type": "code",
   "execution_count": 5,
   "metadata": {},
   "outputs": [
    {
     "data": {
      "text/plain": [
       "[0, 6, 8, 10, 12, 15, 18, 21]"
      ]
     },
     "execution_count": 5,
     "metadata": {},
     "output_type": "execute_result"
    }
   ],
   "source": [
    "H"
   ]
  },
  {
   "cell_type": "code",
   "execution_count": 4,
   "metadata": {},
   "outputs": [
    {
     "data": {
      "text/plain": [
       "0.9926155653632136"
      ]
     },
     "execution_count": 4,
     "metadata": {},
     "output_type": "execute_result"
    }
   ],
   "source": [
    "r_value"
   ]
  },
  {
   "cell_type": "code",
   "execution_count": 4,
   "metadata": {},
   "outputs": [
    {
     "data": {
      "text/plain": [
       "[0.0,\n",
       " 2.1950000000000003,\n",
       " 3.1799999999999997,\n",
       " 4.285,\n",
       " 5.41,\n",
       " 7.3149999999999995,\n",
       " 9.385,\n",
       " 11.085]"
      ]
     },
     "execution_count": 4,
     "metadata": {},
     "output_type": "execute_result"
    }
   ],
   "source": [
    "Te_avg"
   ]
  },
  {
   "cell_type": "code",
   "execution_count": 13,
   "metadata": {},
   "outputs": [
    {
     "data": {
      "text/plain": [
       "[0.47, 0]"
      ]
     },
     "execution_count": 13,
     "metadata": {},
     "output_type": "execute_result"
    }
   ],
   "source": [
    "polyP2"
   ]
  },
  {
   "cell_type": "code",
   "execution_count": 3,
   "metadata": {},
   "outputs": [
    {
     "name": "stdout",
     "output_type": "stream",
     "text": [
      "Help on function plot in module matplotlib.pyplot:\n",
      "\n",
      "plot(*args, **kwargs)\n",
      "    Plot lines and/or markers to the\n",
      "    :class:`~matplotlib.axes.Axes`.  *args* is a variable length\n",
      "    argument, allowing for multiple *x*, *y* pairs with an\n",
      "    optional format string.  For example, each of the following is\n",
      "    legal::\n",
      "    \n",
      "        plot(x, y)        # plot x and y using default line style and color\n",
      "        plot(x, y, 'bo')  # plot x and y using blue circle markers\n",
      "        plot(y)           # plot y using x as index array 0..N-1\n",
      "        plot(y, 'r+')     # ditto, but with red plusses\n",
      "    \n",
      "    If *x* and/or *y* is 2-dimensional, then the corresponding columns\n",
      "    will be plotted.\n",
      "    \n",
      "    If used with labeled data, make sure that the color spec is not\n",
      "    included as an element in data, as otherwise the last case\n",
      "    ``plot(\"v\",\"r\", data={\"v\":..., \"r\":...)``\n",
      "    can be interpreted as the first case which would do ``plot(v, r)``\n",
      "    using the default line style and color.\n",
      "    \n",
      "    If not used with labeled data (i.e., without a data argument),\n",
      "    an arbitrary number of *x*, *y*, *fmt* groups can be specified, as in::\n",
      "    \n",
      "        a.plot(x1, y1, 'g^', x2, y2, 'g-')\n",
      "    \n",
      "    Return value is a list of lines that were added.\n",
      "    \n",
      "    By default, each line is assigned a different style specified by a\n",
      "    'style cycle'.  To change this behavior, you can edit the\n",
      "    axes.prop_cycle rcParam.\n",
      "    \n",
      "    The following format string characters are accepted to control\n",
      "    the line style or marker:\n",
      "    \n",
      "    ================    ===============================\n",
      "    character           description\n",
      "    ================    ===============================\n",
      "    ``'-'``             solid line style\n",
      "    ``'--'``            dashed line style\n",
      "    ``'-.'``            dash-dot line style\n",
      "    ``':'``             dotted line style\n",
      "    ``'.'``             point marker\n",
      "    ``','``             pixel marker\n",
      "    ``'o'``             circle marker\n",
      "    ``'v'``             triangle_down marker\n",
      "    ``'^'``             triangle_up marker\n",
      "    ``'<'``             triangle_left marker\n",
      "    ``'>'``             triangle_right marker\n",
      "    ``'1'``             tri_down marker\n",
      "    ``'2'``             tri_up marker\n",
      "    ``'3'``             tri_left marker\n",
      "    ``'4'``             tri_right marker\n",
      "    ``'s'``             square marker\n",
      "    ``'p'``             pentagon marker\n",
      "    ``'*'``             star marker\n",
      "    ``'h'``             hexagon1 marker\n",
      "    ``'H'``             hexagon2 marker\n",
      "    ``'+'``             plus marker\n",
      "    ``'x'``             x marker\n",
      "    ``'D'``             diamond marker\n",
      "    ``'d'``             thin_diamond marker\n",
      "    ``'|'``             vline marker\n",
      "    ``'_'``             hline marker\n",
      "    ================    ===============================\n",
      "    \n",
      "    \n",
      "    The following color abbreviations are supported:\n",
      "    \n",
      "    ==========  ========\n",
      "    character   color\n",
      "    ==========  ========\n",
      "    'b'         blue\n",
      "    'g'         green\n",
      "    'r'         red\n",
      "    'c'         cyan\n",
      "    'm'         magenta\n",
      "    'y'         yellow\n",
      "    'k'         black\n",
      "    'w'         white\n",
      "    ==========  ========\n",
      "    \n",
      "    In addition, you can specify colors in many weird and\n",
      "    wonderful ways, including full names (``'green'``), hex\n",
      "    strings (``'#008000'``), RGB or RGBA tuples (``(0,1,0,1)``) or\n",
      "    grayscale intensities as a string (``'0.8'``).  Of these, the\n",
      "    string specifications can be used in place of a ``fmt`` group,\n",
      "    but the tuple forms can be used only as ``kwargs``.\n",
      "    \n",
      "    Line styles and colors are combined in a single format string, as in\n",
      "    ``'bo'`` for blue circles.\n",
      "    \n",
      "    The *kwargs* can be used to set line properties (any property that has\n",
      "    a ``set_*`` method).  You can use this to set a line label (for auto\n",
      "    legends), linewidth, anitialising, marker face color, etc.  Here is an\n",
      "    example::\n",
      "    \n",
      "        plot([1,2,3], [1,2,3], 'go-', label='line 1', linewidth=2)\n",
      "        plot([1,2,3], [1,4,9], 'rs',  label='line 2')\n",
      "        axis([0, 4, 0, 10])\n",
      "        legend()\n",
      "    \n",
      "    If you make multiple lines with one plot command, the kwargs\n",
      "    apply to all those lines, e.g.::\n",
      "    \n",
      "        plot(x1, y1, x2, y2, antialiased=False)\n",
      "    \n",
      "    Neither line will be antialiased.\n",
      "    \n",
      "    You do not need to use format strings, which are just\n",
      "    abbreviations.  All of the line properties can be controlled\n",
      "    by keyword arguments.  For example, you can set the color,\n",
      "    marker, linestyle, and markercolor with::\n",
      "    \n",
      "        plot(x, y, color='green', linestyle='dashed', marker='o',\n",
      "             markerfacecolor='blue', markersize=12).\n",
      "    \n",
      "    See :class:`~matplotlib.lines.Line2D` for details.\n",
      "    \n",
      "    The kwargs are :class:`~matplotlib.lines.Line2D` properties:\n",
      "    \n",
      "      agg_filter: unknown\n",
      "      alpha: float (0.0 transparent through 1.0 opaque) \n",
      "      animated: [True | False] \n",
      "      antialiased or aa: [True | False] \n",
      "      axes: an :class:`~matplotlib.axes.Axes` instance \n",
      "      clip_box: a :class:`matplotlib.transforms.Bbox` instance \n",
      "      clip_on: [True | False] \n",
      "      clip_path: [ (:class:`~matplotlib.path.Path`, :class:`~matplotlib.transforms.Transform`) | :class:`~matplotlib.patches.Patch` | None ] \n",
      "      color or c: any matplotlib color \n",
      "      contains: a callable function \n",
      "      dash_capstyle: ['butt' | 'round' | 'projecting'] \n",
      "      dash_joinstyle: ['miter' | 'round' | 'bevel'] \n",
      "      dashes: sequence of on/off ink in points \n",
      "      drawstyle: ['default' | 'steps' | 'steps-pre' | 'steps-mid' | 'steps-post'] \n",
      "      figure: a :class:`matplotlib.figure.Figure` instance \n",
      "      fillstyle: ['full' | 'left' | 'right' | 'bottom' | 'top' | 'none'] \n",
      "      gid: an id string \n",
      "      label: string or anything printable with '%s' conversion. \n",
      "      linestyle or ls: ['solid' | 'dashed', 'dashdot', 'dotted' | (offset, on-off-dash-seq) | ``'-'`` | ``'--'`` | ``'-.'`` | ``':'`` | ``'None'`` | ``' '`` | ``''``]\n",
      "      linewidth or lw: float value in points \n",
      "      marker: :mod:`A valid marker style <matplotlib.markers>`\n",
      "      markeredgecolor or mec: any matplotlib color \n",
      "      markeredgewidth or mew: float value in points \n",
      "      markerfacecolor or mfc: any matplotlib color \n",
      "      markerfacecoloralt or mfcalt: any matplotlib color \n",
      "      markersize or ms: float \n",
      "      markevery: [None | int | length-2 tuple of int | slice | list/array of int | float | length-2 tuple of float]\n",
      "      path_effects: unknown\n",
      "      picker: float distance in points or callable pick function ``fn(artist, event)`` \n",
      "      pickradius: float distance in points \n",
      "      rasterized: [True | False | None] \n",
      "      sketch_params: unknown\n",
      "      snap: unknown\n",
      "      solid_capstyle: ['butt' | 'round' |  'projecting'] \n",
      "      solid_joinstyle: ['miter' | 'round' | 'bevel'] \n",
      "      transform: a :class:`matplotlib.transforms.Transform` instance \n",
      "      url: a url string \n",
      "      visible: [True | False] \n",
      "      xdata: 1D array \n",
      "      ydata: 1D array \n",
      "      zorder: any number \n",
      "    \n",
      "    kwargs *scalex* and *scaley*, if defined, are passed on to\n",
      "    :meth:`~matplotlib.axes.Axes.autoscale_view` to determine\n",
      "    whether the *x* and *y* axes are autoscaled; the default is\n",
      "    *True*.\n",
      "    \n",
      "    .. note::\n",
      "        In addition to the above described arguments, this function can take a\n",
      "        **data** keyword argument. If such a **data** argument is given, the\n",
      "        following arguments are replaced by **data[<arg>]**:\n",
      "    \n",
      "        * All arguments with the following names: 'x', 'y'.\n",
      "\n"
     ]
    }
   ],
   "source": [
    "help(plt.plot)"
   ]
  },
  {
   "cell_type": "code",
   "execution_count": 8,
   "metadata": {},
   "outputs": [
    {
     "name": "stdout",
     "output_type": "stream",
     "text": [
      "Help on function polyfit in module numpy.lib.polynomial:\n",
      "\n",
      "polyfit(x, y, deg, rcond=None, full=False, w=None, cov=False)\n",
      "    Least squares polynomial fit.\n",
      "    \n",
      "    Fit a polynomial ``p(x) = p[0] * x**deg + ... + p[deg]`` of degree `deg`\n",
      "    to points `(x, y)`. Returns a vector of coefficients `p` that minimises\n",
      "    the squared error.\n",
      "    \n",
      "    Parameters\n",
      "    ----------\n",
      "    x : array_like, shape (M,)\n",
      "        x-coordinates of the M sample points ``(x[i], y[i])``.\n",
      "    y : array_like, shape (M,) or (M, K)\n",
      "        y-coordinates of the sample points. Several data sets of sample\n",
      "        points sharing the same x-coordinates can be fitted at once by\n",
      "        passing in a 2D-array that contains one dataset per column.\n",
      "    deg : int\n",
      "        Degree of the fitting polynomial\n",
      "    rcond : float, optional\n",
      "        Relative condition number of the fit. Singular values smaller than\n",
      "        this relative to the largest singular value will be ignored. The\n",
      "        default value is len(x)*eps, where eps is the relative precision of\n",
      "        the float type, about 2e-16 in most cases.\n",
      "    full : bool, optional\n",
      "        Switch determining nature of return value. When it is False (the\n",
      "        default) just the coefficients are returned, when True diagnostic\n",
      "        information from the singular value decomposition is also returned.\n",
      "    w : array_like, shape (M,), optional\n",
      "        Weights to apply to the y-coordinates of the sample points. For\n",
      "        gaussian uncertainties, use 1/sigma (not 1/sigma**2).\n",
      "    cov : bool, optional\n",
      "        Return the estimate and the covariance matrix of the estimate\n",
      "        If full is True, then cov is not returned.\n",
      "    \n",
      "    Returns\n",
      "    -------\n",
      "    p : ndarray, shape (deg + 1,) or (deg + 1, K)\n",
      "        Polynomial coefficients, highest power first.  If `y` was 2-D, the\n",
      "        coefficients for `k`-th data set are in ``p[:,k]``.\n",
      "    \n",
      "    residuals, rank, singular_values, rcond\n",
      "        Present only if `full` = True.  Residuals of the least-squares fit,\n",
      "        the effective rank of the scaled Vandermonde coefficient matrix,\n",
      "        its singular values, and the specified value of `rcond`. For more\n",
      "        details, see `linalg.lstsq`.\n",
      "    \n",
      "    V : ndarray, shape (M,M) or (M,M,K)\n",
      "        Present only if `full` = False and `cov`=True.  The covariance\n",
      "        matrix of the polynomial coefficient estimates.  The diagonal of\n",
      "        this matrix are the variance estimates for each coefficient.  If y\n",
      "        is a 2-D array, then the covariance matrix for the `k`-th data set\n",
      "        are in ``V[:,:,k]``\n",
      "    \n",
      "    \n",
      "    Warns\n",
      "    -----\n",
      "    RankWarning\n",
      "        The rank of the coefficient matrix in the least-squares fit is\n",
      "        deficient. The warning is only raised if `full` = False.\n",
      "    \n",
      "        The warnings can be turned off by\n",
      "    \n",
      "        >>> import warnings\n",
      "        >>> warnings.simplefilter('ignore', np.RankWarning)\n",
      "    \n",
      "    See Also\n",
      "    --------\n",
      "    polyval : Compute polynomial values.\n",
      "    linalg.lstsq : Computes a least-squares fit.\n",
      "    scipy.interpolate.UnivariateSpline : Computes spline fits.\n",
      "    \n",
      "    Notes\n",
      "    -----\n",
      "    The solution minimizes the squared error\n",
      "    \n",
      "    .. math ::\n",
      "        E = \\sum_{j=0}^k |p(x_j) - y_j|^2\n",
      "    \n",
      "    in the equations::\n",
      "    \n",
      "        x[0]**n * p[0] + ... + x[0] * p[n-1] + p[n] = y[0]\n",
      "        x[1]**n * p[0] + ... + x[1] * p[n-1] + p[n] = y[1]\n",
      "        ...\n",
      "        x[k]**n * p[0] + ... + x[k] * p[n-1] + p[n] = y[k]\n",
      "    \n",
      "    The coefficient matrix of the coefficients `p` is a Vandermonde matrix.\n",
      "    \n",
      "    `polyfit` issues a `RankWarning` when the least-squares fit is badly\n",
      "    conditioned. This implies that the best fit is not well-defined due\n",
      "    to numerical error. The results may be improved by lowering the polynomial\n",
      "    degree or by replacing `x` by `x` - `x`.mean(). The `rcond` parameter\n",
      "    can also be set to a value smaller than its default, but the resulting\n",
      "    fit may be spurious: including contributions from the small singular\n",
      "    values can add numerical noise to the result.\n",
      "    \n",
      "    Note that fitting polynomial coefficients is inherently badly conditioned\n",
      "    when the degree of the polynomial is large or the interval of sample points\n",
      "    is badly centered. The quality of the fit should always be checked in these\n",
      "    cases. When polynomial fits are not satisfactory, splines may be a good\n",
      "    alternative.\n",
      "    \n",
      "    References\n",
      "    ----------\n",
      "    .. [1] Wikipedia, \"Curve fitting\",\n",
      "           http://en.wikipedia.org/wiki/Curve_fitting\n",
      "    .. [2] Wikipedia, \"Polynomial interpolation\",\n",
      "           http://en.wikipedia.org/wiki/Polynomial_interpolation\n",
      "    \n",
      "    Examples\n",
      "    --------\n",
      "    >>> x = np.array([0.0, 1.0, 2.0, 3.0,  4.0,  5.0])\n",
      "    >>> y = np.array([0.0, 0.8, 0.9, 0.1, -0.8, -1.0])\n",
      "    >>> z = np.polyfit(x, y, 3)\n",
      "    >>> z\n",
      "    array([ 0.08703704, -0.81349206,  1.69312169, -0.03968254])\n",
      "    \n",
      "    It is convenient to use `poly1d` objects for dealing with polynomials:\n",
      "    \n",
      "    >>> p = np.poly1d(z)\n",
      "    >>> p(0.5)\n",
      "    0.6143849206349179\n",
      "    >>> p(3.5)\n",
      "    -0.34732142857143039\n",
      "    >>> p(10)\n",
      "    22.579365079365115\n",
      "    \n",
      "    High-order polynomials may oscillate wildly:\n",
      "    \n",
      "    >>> p30 = np.poly1d(np.polyfit(x, y, 30))\n",
      "    /... RankWarning: Polyfit may be poorly conditioned...\n",
      "    >>> p30(4)\n",
      "    -0.80000000000000204\n",
      "    >>> p30(5)\n",
      "    -0.99999999999999445\n",
      "    >>> p30(4.5)\n",
      "    -0.10547061179440398\n",
      "    \n",
      "    Illustration:\n",
      "    \n",
      "    >>> import matplotlib.pyplot as plt\n",
      "    >>> xp = np.linspace(-2, 6, 100)\n",
      "    >>> _ = plt.plot(x, y, '.', xp, p(xp), '-', xp, p30(xp), '--')\n",
      "    >>> plt.ylim(-2,2)\n",
      "    (-2, 2)\n",
      "    >>> plt.show()\n",
      "\n"
     ]
    }
   ],
   "source": [
    "help(np.polyfit)"
   ]
  },
  {
   "cell_type": "code",
   "execution_count": null,
   "metadata": {
    "collapsed": true
   },
   "outputs": [],
   "source": []
  }
 ],
 "metadata": {
  "kernelspec": {
   "display_name": "Python 2",
   "language": "python",
   "name": "python2"
  },
  "language_info": {
   "codemirror_mode": {
    "name": "ipython",
    "version": 2
   },
   "file_extension": ".py",
   "mimetype": "text/x-python",
   "name": "python",
   "nbconvert_exporter": "python",
   "pygments_lexer": "ipython2",
   "version": "2.7.13"
  }
 },
 "nbformat": 4,
 "nbformat_minor": 2
}
