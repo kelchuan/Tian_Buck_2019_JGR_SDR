{
 "cells": [
  {
   "cell_type": "code",
   "execution_count": 2,
   "metadata": {
    "collapsed": true
   },
   "outputs": [],
   "source": [
    "import os\n",
    "import numpy as np\n",
    "import math \n",
    "import matplotlib.pyplot as plt"
   ]
  },
  {
   "cell_type": "code",
   "execution_count": 3,
   "metadata": {
    "collapsed": true
   },
   "outputs": [],
   "source": [
    "list_data_x = []\n",
    "list_data_dx = []\n",
    "list_data_dy = []"
   ]
  },
  {
   "cell_type": "code",
   "execution_count": 4,
   "metadata": {
    "collapsed": true
   },
   "outputs": [],
   "source": [
    "N_SDR = 8\n",
    "list_particle_number = []\n",
    "for i in range(1,N_SDR+1):\n",
    "    if i < 10:\n",
    "        list_particle_number.append((\"0\"+str(i)))\n",
    "    else:\n",
    "        list_particle_number.append((str(i)))"
   ]
  },
  {
   "cell_type": "code",
   "execution_count": 6,
   "metadata": {},
   "outputs": [
    {
     "name": "stdout",
     "output_type": "stream",
     "text": [
      "6\n",
      "7\n",
      "55\n",
      "56\n",
      "105\n",
      "106\n",
      "155\n",
      "156\n",
      "205\n",
      "206\n",
      "255\n",
      "256\n",
      "305\n",
      "306\n",
      "355\n",
      "356\n"
     ]
    }
   ],
   "source": [
    "#----------------------------\n",
    "# 2. FLAC model parameters\n",
    "#----------------------------\n",
    "num_particles = 600        #number of particles for each SDR\n",
    "time_steps = 400           #total FLAC model steps\n",
    "dt_step = 20.*1000 #[yr] FLAC time step for data output\n",
    "yr_in_Myr = 10.**6 #[yr]\n",
    "\n",
    "Time_compare = .1 # [Myr]\n",
    "\n",
    "for i in range(N_SDR):\n",
    "    particle_number = list_particle_number[i]\n",
    "\n",
    "    #----------------------------\n",
    "    # 1. for getting FLAC data\n",
    "    #----------------------------\n",
    "    Plate_thickness = \"15\"     # Hd in the model\n",
    "    # particle_number = \"02\"     # which SDR particle\n",
    "    \n",
    "    # Get data from FLAC\n",
    "    #----------------------------\n",
    "    FLAC_file_path=(\"/Users/Tian/Documents/Thesis/Vts_data/TianHe2/20171208-nodike-high_infill/vts_files/H\"\n",
    "                    +Plate_thickness)\n",
    "    #FLAC_file_path=(\"/Users/Tian/Documents/Thesis\"\n",
    "    #                \"/Vts_data/TianHe2/20170920/H\"\n",
    "    #                +Plate_thickness+\"-withHealing\")\n",
    "\n",
    "    FLAC_data = open(FLAC_file_path+\"/particles_\"+particle_number+\".0\",'rb')\n",
    "    data = np.fromfile(FLAC_data, dtype=np.single)\n",
    "    FLAC_data.close()\n",
    "    data_matrix = data.reshape((num_particles, 2, time_steps), order='F')\n",
    "    data_matrix_x = data_matrix[:,0,:]\n",
    "    data_matrix_y = data_matrix[:,1,:]\n",
    "\n",
    "    data_dy = np.zeros(len(data_matrix_x[:,1]))\n",
    "    data_dx = np.zeros(len(data_matrix_x[:,1]))\n",
    "    data_x_dt = np.zeros(len(data_matrix_x[:,1]))\n",
    "\n",
    "\n",
    "    time_data_comparison = Time_compare * yr_in_Myr \n",
    "    #[yr]  compare data at 1 Myr  (relative time, for SDR 10 at 10Myr is when it experience 1Myr of load)\n",
    "    TIME = float(particle_number) + Time_compare - 1. \n",
    "    steps = int(np.ceil(TIME * yr_in_Myr / dt_step)) # the step in FLAC correspond to time_data_comparison\n",
    "    steps_dt = steps + 1\n",
    "    \n",
    "    # fetch useful data at corresponding time\n",
    "    print(steps)\n",
    "    data_x = data_matrix_x[:,steps]\n",
    "    data_y = data_matrix_y[:,steps]\n",
    "    print(steps_dt)\n",
    "    data_x_dt = data_matrix_x[:,steps_dt]\n",
    "    data_y_dt = data_matrix_y[:,steps_dt]\n",
    "\n",
    "    data_dy = data_y_dt - data_y\n",
    "    data_dx = data_x_dt - data_x\n",
    "    data_x_dt = data_x_dt\n",
    "    \n",
    "    list_data_x.append(data_x_dt[:])\n",
    "    list_data_dx.append(data_dx[:])\n",
    "    list_data_dy.append(data_dy[:])"
   ]
  },
  {
   "cell_type": "code",
   "execution_count": 12,
   "metadata": {},
   "outputs": [
    {
     "data": {
      "text/plain": [
       "317.0"
      ]
     },
     "execution_count": 12,
     "metadata": {},
     "output_type": "execute_result"
    }
   ],
   "source": [
    "380400/1200"
   ]
  },
  {
   "cell_type": "code",
   "execution_count": 13,
   "metadata": {},
   "outputs": [
    {
     "data": {
      "text/plain": [
       "'/Users/Tian/Documents/Thesis/Vts_data/TianHe2/20171208-nodike-high_infill/vts_files/H15'"
      ]
     },
     "execution_count": 13,
     "metadata": {},
     "output_type": "execute_result"
    }
   ],
   "source": [
    "FLAC_file_path"
   ]
  },
  {
   "cell_type": "code",
   "execution_count": 14,
   "metadata": {},
   "outputs": [
    {
     "data": {
      "text/plain": [
       "3.565042"
      ]
     },
     "execution_count": 14,
     "metadata": {},
     "output_type": "execute_result"
    }
   ],
   "source": [
    "list_data_x[0][1]"
   ]
  },
  {
   "cell_type": "code",
   "execution_count": 15,
   "metadata": {},
   "outputs": [
    {
     "data": {
      "image/png": "[encoded data removed]",
      "text/plain": [
       "<matplotlib.figure.Figure at 0x113248cc0>"
      ]
     },
     "metadata": {},
     "output_type": "display_data"
    }
   ],
   "source": [
    "fig = plt.gcf()\n",
    "fig.set_size_inches(9, 6)\n",
    "\n",
    "for i in range(N_SDR):\n",
    "    #plt.plot(list_data_x[i],list_data_dy[i]*1000)\n",
    "    plt.plot(list_data_x[i][:],list_data_dy[i][:]*1000)\n",
    "plt.grid()\n",
    "plt.title(\"dw during 20kyrs H=15km\")\n",
    "plt.xlabel(\"off axis distance [km]\")\n",
    "plt.ylabel(\"deflection [m]\")\n",
    "plt.show()\n",
    "\n",
    "fig.savefig('H15-dw.png', dpi=300)"
   ]
  },
  {
   "cell_type": "code",
   "execution_count": 16,
   "metadata": {},
   "outputs": [
    {
     "data": {
      "text/plain": [
       "<matplotlib.legend.Legend at 0x115c21160>"
      ]
     },
     "execution_count": 16,
     "metadata": {},
     "output_type": "execute_result"
    }
   ],
   "source": [
    "#for i in range(5,10):\n",
    "    #plt.plot(list_data_x[i],list_data_dy[i])\n",
    "#fig0,=plt.plot(list_data_x[0],list_data_dy[0],label=\"0\")\n",
    "#fig1,=plt.plot(list_data_x[3],list_data_dy[3],label=\"3\")\n",
    "fig2,=plt.plot(list_data_x[7],list_data_dy[7],label=\"5Myr\")\n",
    "fig3,=plt.plot(list_data_x[5],list_data_dy[5],label=\"6Myr\")\n",
    "#fig4,=plt.plot(list_data_x[1],list_data_dy[1],label=\"1\")\n",
    "#plt.plot(list_data_x[7],list_data_dy[7])\n",
    "plt.legend()"
   ]
  },
  {
   "cell_type": "code",
   "execution_count": 17,
   "metadata": {},
   "outputs": [
    {
     "data": {
      "image/png": "[encoded data removed]",
      "text/plain": [
       "<matplotlib.figure.Figure at 0x11340eda0>"
      ]
     },
     "metadata": {},
     "output_type": "display_data"
    }
   ],
   "source": [
    "plt.grid()\n",
    "plt.xlabel(\"off axis distance [km]\")\n",
    "plt.ylabel(\"deflection [m]\")\n",
    "plt.show()"
   ]
  },
  {
   "cell_type": "code",
   "execution_count": 18,
   "metadata": {},
   "outputs": [
    {
     "data": {
      "text/plain": [
       "8"
      ]
     },
     "execution_count": 18,
     "metadata": {},
     "output_type": "execute_result"
    }
   ],
   "source": [
    "len(list_data_dy)"
   ]
  },
  {
   "cell_type": "code",
   "execution_count": 19,
   "metadata": {
    "collapsed": true
   },
   "outputs": [],
   "source": [
    "xx = [item[2] for item in list_data_x]"
   ]
  },
  {
   "cell_type": "code",
   "execution_count": 20,
   "metadata": {},
   "outputs": [
    {
     "data": {
      "text/plain": [
       "3510.8337700366974"
      ]
     },
     "execution_count": 20,
     "metadata": {},
     "output_type": "execute_result"
    }
   ],
   "source": [
    "# calculate the average x locations of the SDRs that is nearest to axis\n",
    "xx_avg = sum(xx)/len(xx)*1000.\n",
    "xx_avg"
   ]
  },
  {
   "cell_type": "code",
   "execution_count": 21,
   "metadata": {
    "collapsed": true
   },
   "outputs": [],
   "source": [
    "dw0 = [item[2] for item in list_data_dy]"
   ]
  },
  {
   "cell_type": "code",
   "execution_count": 22,
   "metadata": {
    "collapsed": true
   },
   "outputs": [],
   "source": [
    "dw0 = np.array(dw0)"
   ]
  },
  {
   "cell_type": "code",
   "execution_count": 23,
   "metadata": {},
   "outputs": [
    {
     "data": {
      "text/plain": [
       "array([ -13.44076538,  -49.69042587,  -86.20065308,  -94.47366333,\n",
       "       -102.32049561,  -97.57679749,  -95.30561829,  -94.07198334], dtype=float32)"
      ]
     },
     "execution_count": 23,
     "metadata": {},
     "output_type": "execute_result"
    }
   ],
   "source": [
    "dw0*1000"
   ]
  },
  {
   "cell_type": "code",
   "execution_count": 24,
   "metadata": {},
   "outputs": [
    {
     "data": {
      "image/png": "[encoded data removed]",
      "text/plain": [
       "<matplotlib.figure.Figure at 0x114869588>"
      ]
     },
     "metadata": {},
     "output_type": "display_data"
    }
   ],
   "source": [
    "plt.scatter(([1,2,3,4,5,6,7,8]), dw0*1000)\n",
    "plt.grid()\n",
    "plt.xlabel(\"Time [Myrs]\")\n",
    "plt.ylabel(\"on-axis deflection [m]\")\n",
    "plt.show()"
   ]
  },
  {
   "cell_type": "code",
   "execution_count": 25,
   "metadata": {},
   "outputs": [
    {
     "data": {
      "text/plain": [
       "-96.749711036682129"
      ]
     },
     "execution_count": 25,
     "metadata": {},
     "output_type": "execute_result"
    }
   ],
   "source": [
    "# take the steady dw0 and calc the average (from 3)\n",
    "N_steady = 3 # from the figure plot\n",
    "dw0_avg = sum(dw0[N_steady:]) / len(dw0[N_steady:]) * 1000\n",
    "dw0_avg"
   ]
  },
  {
   "cell_type": "code",
   "execution_count": 26,
   "metadata": {},
   "outputs": [
    {
     "data": {
      "image/png": "[encoded data removed]",
      "text/plain": [
       "<matplotlib.figure.Figure at 0x11486f198>"
      ]
     },
     "metadata": {},
     "output_type": "display_data"
    }
   ],
   "source": [
    "for i in range(N_SDR):\n",
    "    plt.plot(list_data_x[i],list_data_dx[i])\n",
    "plt.show()"
   ]
  },
  {
   "cell_type": "code",
   "execution_count": 27,
   "metadata": {},
   "outputs": [
    {
     "data": {
      "text/plain": [
       "15000.0"
      ]
     },
     "execution_count": 27,
     "metadata": {},
     "output_type": "execute_result"
    }
   ],
   "source": [
    "int(Plate_thickness)*1000."
   ]
  },
  {
   "cell_type": "code",
   "execution_count": 29,
   "metadata": {
    "collapsed": true
   },
   "outputs": [],
   "source": [
    "# compare with analytic results\n",
    "#Hd = int(Plate_thickness)*1000.;              #[m] height of the dike\n",
    "Hd = float(12.2)*1000.; \n",
    "Te = int(Plate_thickness)*1000.;              #[m] effective plate thickness\n",
    "g = 10.;                 #[m/s**2] gravitational acceleration\n",
    "rho_d = 3000.;           #[kg/m**3] density of the solidified dike\n",
    "rho_f = 2800.;           #[kg/m**3] density of the fluid dike\n",
    "delta_rho_d = rho_d - rho_f;\n",
    "rho_i_sedi = 2300.;\n",
    "rho_i = 2800.;           #[kg/m**3] density of the infill\n",
    "rho_c = 3000.;           #[kg/m**3] density of the underlying lower crust or mantle\n",
    "sediment = 0;  # whether infill is sedi or lava  (1 means sedi)\n",
    "if sediment == 1:\n",
    "    delta_rho_c = rho_c - rho_i_sedi;\n",
    "else:\n",
    "    delta_rho_c = rho_c - rho_i;\n",
    "\n",
    "\n",
    "E = 7.5 * 10.**10.;          #[Pa] Young's modulus; for lame constants of 30GPa\n",
    "mu = 0.25;              # Poisson's ratio\n",
    "D = (E * Te**3.) / (12 * (1 - mu**2.)); #[N*m] Flexural rigidity\n",
    "alpha = (4. * D / (delta_rho_c * g))**0.25;#[m] Flexural wavelength\n",
    "dx = dt_step / yr_in_Myr * 10. * 1000.  # [m] width of dike injection within one dt of 20kyr\n",
    "dV_0 = dx * g * Hd * delta_rho_d; #[N/m] volcanic line load due to denser dike\n",
    "dW_0 = 2 * dV_0 / (alpha * g * delta_rho_c)"
   ]
  },
  {
   "cell_type": "code",
   "execution_count": 30,
   "metadata": {},
   "outputs": [
    {
     "data": {
      "text/plain": [
       "200.0"
      ]
     },
     "execution_count": 30,
     "metadata": {},
     "output_type": "execute_result"
    }
   ],
   "source": [
    "dx"
   ]
  },
  {
   "cell_type": "code",
   "execution_count": 31,
   "metadata": {},
   "outputs": [
    {
     "data": {
      "text/plain": [
       "59.582221757484554"
      ]
     },
     "execution_count": 31,
     "metadata": {},
     "output_type": "execute_result"
    }
   ],
   "source": [
    "\n",
    "dW_0"
   ]
  },
  {
   "cell_type": "code",
   "execution_count": 32,
   "metadata": {},
   "outputs": [
    {
     "data": {
      "text/plain": [
       "81903.625881272"
      ]
     },
     "execution_count": 32,
     "metadata": {},
     "output_type": "execute_result"
    }
   ],
   "source": [
    "alpha"
   ]
  },
  {
   "cell_type": "code",
   "execution_count": 33,
   "metadata": {},
   "outputs": [
    {
     "data": {
      "text/plain": [
       "0.95716027094708067"
      ]
     },
     "execution_count": 33,
     "metadata": {},
     "output_type": "execute_result"
    }
   ],
   "source": [
    "np.exp(-xx_avg / alpha)* np.cos(xx_avg / alpha)"
   ]
  },
  {
   "cell_type": "code",
   "execution_count": 34,
   "metadata": {},
   "outputs": [
    {
     "data": {
      "text/plain": [
       "-96.749711036682129"
      ]
     },
     "execution_count": 34,
     "metadata": {},
     "output_type": "execute_result"
    }
   ],
   "source": [
    "dw0_avg"
   ]
  },
  {
   "cell_type": "code",
   "execution_count": 35,
   "metadata": {
    "collapsed": true
   },
   "outputs": [],
   "source": [
    "# # using scypy to solve\n",
    "# import sympy as sp\n",
    "# from sympy.solvers import solve\n",
    "# from sympy import Symbol\n",
    "# alpha_n = Symbol('alpha_n')\n",
    "# eq = dw0_avg - 2 * dV_0 / (alpha_n * g * delta_rho_c) \\\n",
    "#     * sp.exp(-xx_avg / alpha_n) * sp.cos(xx_avg / alpha_n)\n",
    "# solve(eq, alpha_n)"
   ]
  },
  {
   "cell_type": "code",
   "execution_count": 36,
   "metadata": {},
   "outputs": [
    {
     "data": {
      "text/plain": [
       "-96.749711036682129"
      ]
     },
     "execution_count": 36,
     "metadata": {},
     "output_type": "execute_result"
    }
   ],
   "source": [
    "dw0_avg"
   ]
  },
  {
   "cell_type": "code",
   "execution_count": 37,
   "metadata": {},
   "outputs": [
    {
     "data": {
      "text/plain": [
       "3510.8337700366974"
      ]
     },
     "execution_count": 37,
     "metadata": {},
     "output_type": "execute_result"
    }
   ],
   "source": [
    "xx_avg"
   ]
  },
  {
   "cell_type": "code",
   "execution_count": 38,
   "metadata": {},
   "outputs": [
    {
     "data": {
      "text/plain": [
       "4880000000.0"
      ]
     },
     "execution_count": 38,
     "metadata": {},
     "output_type": "execute_result"
    }
   ],
   "source": [
    "dV_0"
   ]
  },
  {
   "cell_type": "code",
   "execution_count": 39,
   "metadata": {},
   "outputs": [
    {
     "data": {
      "image/png": "[encoded data removed]",
      "text/plain": [
       "<matplotlib.figure.Figure at 0x115d8ea90>"
      ]
     },
     "metadata": {},
     "output_type": "display_data"
    }
   ],
   "source": [
    "from scipy.optimize import fsolve\n",
    "func = lambda alpha_n: \\\n",
    "        -dw0_avg - 2 * dV_0 / (alpha_n * g * delta_rho_c) \\\n",
    "         * np.exp(-xx_avg / alpha_n) * np.cos(xx_avg / alpha_n)\n",
    "#plot\n",
    "# Plot it\n",
    "\n",
    "alpha_n = np.linspace(alpha/10, alpha, 201)\n",
    "\n",
    "plt.plot(alpha_n, func(alpha_n))\n",
    "plt.xlabel(\"alpha\")\n",
    "plt.ylabel(\"expression value\")\n",
    "plt.grid()\n",
    "plt.show()\n",
    "\n",
    "alpha_n_initial_guess = alpha\n",
    "alpha_n_solution = fsolve(func, alpha_n_initial_guess)"
   ]
  },
  {
   "cell_type": "code",
   "execution_count": 40,
   "metadata": {},
   "outputs": [
    {
     "data": {
      "text/plain": [
       "array([ 46650.33285698])"
      ]
     },
     "execution_count": 40,
     "metadata": {},
     "output_type": "execute_result"
    }
   ],
   "source": [
    "alpha_n_solution"
   ]
  },
  {
   "cell_type": "code",
   "execution_count": 41,
   "metadata": {
    "collapsed": true
   },
   "outputs": [],
   "source": [
    "Te_n = (alpha_n_solution / (E / (3*delta_rho_c*g*(1-mu**2)))**0.25)**(4/3.)"
   ]
  },
  {
   "cell_type": "code",
   "execution_count": 42,
   "metadata": {},
   "outputs": [
    {
     "data": {
      "text/plain": [
       "array([ 7082.06785619])"
      ]
     },
     "execution_count": 42,
     "metadata": {},
     "output_type": "execute_result"
    }
   ],
   "source": [
    "Te_n"
   ]
  },
  {
   "cell_type": "code",
   "execution_count": null,
   "metadata": {
    "collapsed": true
   },
   "outputs": [],
   "source": []
  }
 ],
 "metadata": {
  "kernelspec": {
   "display_name": "Python 3",
   "language": "python",
   "name": "python3"
  },
  "language_info": {
   "codemirror_mode": {
    "name": "ipython",
    "version": 3
   },
   "file_extension": ".py",
   "mimetype": "text/x-python",
   "name": "python",
   "nbconvert_exporter": "python",
   "pygments_lexer": "ipython3",
   "version": "3.5.3"
  }
 },
 "nbformat": 4,
 "nbformat_minor": 2
}
