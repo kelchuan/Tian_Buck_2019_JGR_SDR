{
 "cells": [
  {
   "cell_type": "code",
   "execution_count": 1,
   "metadata": {
    "collapsed": true
   },
   "outputs": [],
   "source": [
    "import os\n",
    "import numpy as np\n",
    "import math \n",
    "import matplotlib.pyplot as plt"
   ]
  },
  {
   "cell_type": "code",
   "execution_count": 2,
   "metadata": {
    "collapsed": true
   },
   "outputs": [],
   "source": [
    "list_data_x = []\n",
    "list_data_y = []\n",
    "list_tip_x = []   #for all the SDR tips at Time_compare\n",
    "list_tip_y = []\n",
    "list_tip_time_x = []  # for SDR tip trace from Time_wt_start to Time_wt_end\n",
    "list_tip_time_y = []"
   ]
  },
  {
   "cell_type": "code",
   "execution_count": 3,
   "metadata": {
    "collapsed": true
   },
   "outputs": [],
   "source": [
    "N_SDR = 16\n",
    "list_particle_number = []\n",
    "for i in range(1,N_SDR+1):\n",
    "    if i < 10:\n",
    "        list_particle_number.append((\"0\"+str(i)))\n",
    "    else:\n",
    "        list_particle_number.append((str(i)))"
   ]
  },
  {
   "cell_type": "code",
   "execution_count": 4,
   "metadata": {},
   "outputs": [
    {
     "name": "stdout",
     "output_type": "stream",
     "text": [
      "#particle= 01\n",
      "799\n",
      "wt_steps_start =  749\n",
      "wt_steps_end =  799\n",
      "#particle= 02\n",
      "799\n",
      "wt_steps_start =  749\n",
      "wt_steps_end =  799\n",
      "#particle= 03\n",
      "799\n",
      "wt_steps_start =  749\n",
      "wt_steps_end =  799\n",
      "#particle= 04\n",
      "799\n",
      "wt_steps_start =  749\n",
      "wt_steps_end =  799\n",
      "#particle= 05\n",
      "799\n",
      "wt_steps_start =  749\n",
      "wt_steps_end =  799\n",
      "#particle= 06\n",
      "799\n",
      "wt_steps_start =  749\n",
      "wt_steps_end =  799\n",
      "#particle= 07\n",
      "799\n",
      "wt_steps_start =  749\n",
      "wt_steps_end =  799\n",
      "#particle= 08\n",
      "799\n",
      "wt_steps_start =  749\n",
      "wt_steps_end =  799\n",
      "#particle= 09\n",
      "799\n",
      "wt_steps_start =  749\n",
      "wt_steps_end =  799\n",
      "#particle= 10\n",
      "799\n",
      "wt_steps_start =  749\n",
      "wt_steps_end =  799\n",
      "#particle= 11\n",
      "799\n",
      "wt_steps_start =  749\n",
      "wt_steps_end =  799\n",
      "#particle= 12\n",
      "799\n",
      "wt_steps_start =  749\n",
      "wt_steps_end =  799\n",
      "#particle= 13\n",
      "799\n",
      "wt_steps_start =  749\n",
      "wt_steps_end =  799\n",
      "#particle= 14\n",
      "799\n",
      "wt_steps_start =  749\n",
      "wt_steps_end =  799\n",
      "#particle= 15\n",
      "799\n",
      "wt_steps_start =  749\n",
      "wt_steps_end =  799\n",
      "#particle= 16\n",
      "799\n",
      "wt_steps_start =  749\n",
      "wt_steps_end =  799\n"
     ]
    }
   ],
   "source": [
    "#----------------------------\n",
    "# 2. FLAC model parameters\n",
    "#----------------------------\n",
    "num_particles = 600        #number of particles for each SDR\n",
    "time_steps = 800          #total FLAC model steps\n",
    "dt_step = 20.*1000 #[yr] FLAC time step for data output\n",
    "yr_in_Myr = 10.**6 #[yr]\n",
    "\n",
    "Time_compare = 16. # [Myr]   #plotting time for each SDRj\n",
    "\n",
    "for i in range(N_SDR):\n",
    "    particle_number = list_particle_number[i]\n",
    "    print(\"#particle=\", particle_number)\n",
    "    #----------------------------\n",
    "    # 1. for getting FLAC data\n",
    "    #----------------------------\n",
    "    Plate_thickness = \"15\"     # Hd in the model\n",
    "    # particle_number = \"02\"     # which SDR particle\n",
    "    \n",
    "    # Get data from FLAC\n",
    "    #----------------------------\n",
    "    #FLAC_file_path=(\"/Users/Tian/Documents/Thesis/Vts_data/TianHe2/20180112-Davis_2017_rheo-BC700C-dike_through-Nu3_6_10km_600C/BC900_plag-rem-mantle-dike-crust_newtherm/\")\n",
    "    FLAC_file_path=(\"/Volumes/Kelvin_2017/Thesis_Columbia/My_papers/Tian-Buck-2019-JGR-SDR_lithospheric_thickness/1Codes/FLAC_SDR/EVP_therm_mantle/20180112/BC900_plag-rem-mantle-dike-crust_newtherm\")\n",
    "    FLAC_data = open(FLAC_file_path+\"/particles_\"+particle_number+\".0\",'rb')\n",
    "    data = np.fromfile(FLAC_data, dtype=np.single)\n",
    "    FLAC_data.close()\n",
    "    data_matrix = data.reshape((num_particles, 2, time_steps), order='F')\n",
    "    data_matrix_x = data_matrix[:,0,:]\n",
    "    data_matrix_y = data_matrix[:,1,:]\n",
    "\n",
    "    time_data_comparison = Time_compare * yr_in_Myr \n",
    "    #[yr]  compare data at 1 Myr  (relative time, for SDR 10 at 10Myr is when it experience 1Myr of load)\n",
    "    TIME = Time_compare \n",
    "    steps = int(np.ceil(TIME * yr_in_Myr / dt_step)) - 1 # the step in FLAC correspond to time_data_comparison\n",
    "    \n",
    "    # fetch useful data at corresponding time\n",
    "    print(steps)\n",
    "    data_x = data_matrix_x[:,steps]\n",
    "    data_y = data_matrix_y[:,steps]\n",
    "    \n",
    "    list_data_x.append(data_x[:])\n",
    "    list_data_y.append(data_y[:])\n",
    "    list_tip_x.append(data_x[0])\n",
    "    list_tip_y.append(data_y[0])\n",
    "    \n",
    "    # fetch data for Wt, race of tip of SDRs in the last Myr\n",
    "    Time_wt_start = 15. # Myrs\n",
    "    Time_wt_end = 16. # Myrs\n",
    "    Time_data_wt_start = Time_wt_start * yr_in_Myr\n",
    "    Time_data_wt_end = Time_wt_end * yr_in_Myr\n",
    "    wt_steps_start = int(np.ceil(Time_data_wt_start / dt_step)) - 1 # the step in FLAC correspond to time_data\n",
    "    wt_steps_end = int(np.ceil(Time_data_wt_end / dt_step)) - 1\n",
    "    wt_N_steps = wt_steps_end - wt_steps_start\n",
    "    print(\"wt_steps_start = \", wt_steps_start)\n",
    "    print(\"wt_steps_end = \", wt_steps_end)\n",
    "    wt_data_x = data_matrix_x[0,wt_steps_start:wt_steps_end]\n",
    "    wt_data_y = data_matrix_y[0,wt_steps_start:wt_steps_end]\n",
    "    \n",
    "    list_tip_time_x.append(wt_data_x[::-1])  # ::-1 so as to get from largest to the smallest continuously\n",
    "    list_tip_time_y.append(wt_data_y[::-1])  # wt from rightmost to left"
   ]
  },
  {
   "cell_type": "code",
   "execution_count": 5,
   "metadata": {},
   "outputs": [
    {
     "data": {
      "text/plain": [
       "'/Volumes/Kelvin_2017/Thesis_Columbia/My_papers/Tian-Buck-2019-JGR-SDR_lithospheric_thickness/1Codes/FLAC_SDR/EVP_therm_mantle/20180112/BC900_plag-rem-mantle-dike-crust_newtherm'"
      ]
     },
     "execution_count": 5,
     "metadata": {},
     "output_type": "execute_result"
    }
   ],
   "source": [
    "FLAC_file_path"
   ]
  },
  {
   "cell_type": "code",
   "execution_count": 6,
   "metadata": {
    "collapsed": true
   },
   "outputs": [],
   "source": [
    "#help(plt.plot)"
   ]
  },
  {
   "cell_type": "code",
   "execution_count": 7,
   "metadata": {
    "collapsed": true
   },
   "outputs": [],
   "source": [
    "#processing the temporally varying tracer data\n",
    "# list_tip_time_x-->list_tip_time_x_con-->list_tip_time_x_plt-->Wtx\n",
    "list_tip_time_x_con = np.concatenate(list_tip_time_x)\n",
    "list_tip_time_y_con = np.concatenate(list_tip_time_y)\n",
    "N_start_SDR = 3 #<> #remove the first couple SDRs\n",
    "remove_point = -1 #<> # and take out the on axis point (:-1)\n",
    "list_tip_time_x_plt = list_tip_time_x_con[N_start_SDR*wt_N_steps:remove_point] #remove the first couple SDRs\n",
    "list_tip_time_y_plt = list_tip_time_y_con[N_start_SDR*wt_N_steps:remove_point] # and take out the on axis point (:-1)\n",
    "Wtx = list_tip_time_x_plt[::-1] # from axis to further away, reverse the sequence\n",
    "Wty = list_tip_time_y_plt[::-1]"
   ]
  },
  {
   "cell_type": "code",
   "execution_count": 8,
   "metadata": {},
   "outputs": [
    {
     "data": {
      "image/png": "[encoded data removed]",
      "text/plain": [
       "<matplotlib.figure.Figure at 0x111872400>"
      ]
     },
     "metadata": {},
     "output_type": "display_data"
    }
   ],
   "source": [
    "plt.plot(list_tip_time_x_plt,list_tip_time_y_plt) # [0:] 0 means the furthest SDR\n",
    "plt.show()"
   ]
  },
  {
   "cell_type": "code",
   "execution_count": 9,
   "metadata": {},
   "outputs": [
    {
     "name": "stdout",
     "output_type": "stream",
     "text": [
      "4\n",
      "6\n",
      "8\n",
      "10\n",
      "12\n",
      "14\n",
      "index in Wtx for Xf is 553\n",
      "Xf = 108.632 [km] W0= -8.91763\n",
      "use number of SDR equal to 5 at Xf\n",
      "the corresponding time step for the 06 th SDR is 793\n"
     ]
    },
    {
     "name": "stderr",
     "output_type": "stream",
     "text": [
      "/opt/local/Library/Frameworks/Python.framework/Versions/3.5/lib/python3.5/site-packages/numpy/lib/function_base.py:1767: RuntimeWarning: divide by zero encountered in true_divide\n",
      "  a = -(dx2)/(dx1 * (dx1 + dx2))\n",
      "/opt/local/Library/Frameworks/Python.framework/Versions/3.5/lib/python3.5/site-packages/numpy/lib/function_base.py:1767: RuntimeWarning: invalid value encountered in true_divide\n",
      "  a = -(dx2)/(dx1 * (dx1 + dx2))\n",
      "/opt/local/Library/Frameworks/Python.framework/Versions/3.5/lib/python3.5/site-packages/numpy/lib/function_base.py:1768: RuntimeWarning: divide by zero encountered in true_divide\n",
      "  b = (dx2 - dx1) / (dx1 * dx2)\n",
      "/opt/local/Library/Frameworks/Python.framework/Versions/3.5/lib/python3.5/site-packages/numpy/lib/function_base.py:1768: RuntimeWarning: invalid value encountered in true_divide\n",
      "  b = (dx2 - dx1) / (dx1 * dx2)\n",
      "/opt/local/Library/Frameworks/Python.framework/Versions/3.5/lib/python3.5/site-packages/numpy/lib/function_base.py:1769: RuntimeWarning: divide by zero encountered in true_divide\n",
      "  c = dx1 / (dx2 * (dx1 + dx2))\n",
      "/opt/local/Library/Frameworks/Python.framework/Versions/3.5/lib/python3.5/site-packages/numpy/lib/function_base.py:1769: RuntimeWarning: invalid value encountered in true_divide\n",
      "  c = dx1 / (dx2 * (dx1 + dx2))\n",
      "/opt/local/Library/Frameworks/Python.framework/Versions/3.5/lib/python3.5/site-packages/numpy/lib/function_base.py:1775: RuntimeWarning: invalid value encountered in add\n",
      "  out[slice1] = a * f[slice2] + b * f[slice3] + c * f[slice4]\n"
     ]
    },
    {
     "name": "stdout",
     "output_type": "stream",
     "text": [
      "the angle phi at Xf equals  12.897784003821782\n"
     ]
    },
    {
     "data": {
      "image/png": "[encoded data removed]",
      "text/plain": [
       "<matplotlib.figure.Figure at 0x111de5c88>"
      ]
     },
     "metadata": {},
     "output_type": "display_data"
    }
   ],
   "source": [
    "#-----------------------------\n",
    "#setting figure configuration\n",
    "#-----------------------------\n",
    "resources_path=\"/Users/Tian/Documents/Thesis_Columbia/SDR_manuscript/manuscript-2018/figures/resources/\"\n",
    "fig = plt.gcf()\n",
    "#plt.grid()\n",
    "#<> adjust ylim for covering the thickness of SDRs\n",
    "xmin = 0\n",
    "xmax = 200\n",
    "ymin = -15\n",
    "ymax = 1\n",
    "plt.xlim([xmin,xmax])\n",
    "plt.ylim([ymin,ymax])\n",
    "#fig.set_size_inches(15, 1)\n",
    "figurewidth = 20\n",
    "figureheight = (ymax-ymin)/(xmax-xmin)*figurewidth #in order to be 1:1 VE=1\n",
    "fig.set_figwidth(figurewidth)\n",
    "fig.set_figheight(figureheight)\n",
    "#---------------------\n",
    "#specify the color\n",
    "#---------------------\n",
    "pink = (0.88,0.77,0.77)\n",
    "darkred = (0.8,0.1,0.1)\n",
    "lightgreen = (0,1,0.3)\n",
    "\n",
    "#----------------------------------------\n",
    "# ploting each SDR and filling in between\n",
    "#----------------------------------------\n",
    "# fill \n",
    "#help(plt.fill_between)\n",
    "#/opt/local/share/py35-matplotlib/examples/pylab_examples/fill_spiral.py\n",
    "for i in range(N_SDR):\n",
    "    #ploting each SDR at Time_compare\n",
    "    #plt.plot(list_data_x[i][:],list_data_y[i][:],color = lightgreen,linestyle='dashed',linewidth=3.9)\n",
    "    # skipping first several SDRs\n",
    "    if (i<=N_start_SDR):\n",
    "        do_nothing = 1\n",
    "    elif (i==0): # filling the last SDR wedge furthest away from axis\n",
    "        xf = np.concatenate((list_data_x[i][:],list_data_x[i+1][::-1]))\n",
    "        yf = np.concatenate((list_data_y[i][:],list_data_y[i+1][::-1]))\n",
    "        plt.fill(xf,yf,color=pink)        \n",
    "    elif (i%2==0 and (i+1) <= (N_SDR-1) ): # remainder of i / 2, when i is even and not beyond max i\n",
    "        print(i)\n",
    "        xf = np.concatenate((list_data_x[i][:],list_data_x[i+1][::-1],list_tip_time_x[i][::-1]))\n",
    "        yf = np.concatenate((list_data_y[i][:],list_data_y[i+1][::-1],list_tip_time_y[i][::-1]))\n",
    "        plt.fill(xf,yf,color=pink)\n",
    "    elif((i+1) <= (N_SDR-1) and i>=1):\n",
    "        xf = np.concatenate((list_data_x[i][:],list_data_x[i+1][::-1],list_tip_time_x[i][::-1]))\n",
    "        yf = np.concatenate((list_data_y[i][:],list_data_y[i+1][::-1],list_tip_time_y[i][::-1]))\n",
    "        plt.fill(xf,yf,color=darkred)\n",
    "    # for filling in surface and the last SDR\n",
    "    else:\n",
    "        #xf = np.append(list_data_x[N_SDR-1][:],list_tip_time_x[N_SDR-1][::-1][1:])\n",
    "        #yf = np.append(list_data_y[N_SDR-1][:],list_tip_time_y[N_SDR-1][::-1][1:])\n",
    "        xf = np.append(list_data_x[i][:],list_tip_time_x[i][::-1][1:])  #*<>*skip the first point(1:)\n",
    "        yf = np.append(list_data_y[i][:],list_tip_time_y[i][::-1][1:])\n",
    "        plt.fill(xf,yf,color=darkred)\n",
    "\n",
    "#plotting Wt\n",
    "#plt.plot(Wtx,Wty,'r-',linewidth=3.5)\n",
    "#plotting each SDR tip\n",
    "#plt.plot(list_tip_x[:],list_tip_y[:],\"k.\",markersize = 12) # ploting SDR tips\n",
    "#------------------------------------------------\n",
    "#finding Xf and plotting the corresponding SDR\n",
    "# find the index in Wtx for Xf\n",
    "kk = np.gradient(Wty,Wtx)\n",
    "kk_bool = kk > 0  #finding where gradient switch from negative to positive\n",
    "for i in range(np.size(kk)):\n",
    "    if (kk_bool[i-1] == False and kk_bool[i] == True and kk_bool[i+1] == True and kk_bool[i+2] == True):\n",
    "        print(\"index in Wtx for Xf is\",i)\n",
    "        Xf_index = i\n",
    "        break\n",
    "Xf = Wtx[Xf_index] - Wtx[0]  #- Wtx[0] for taking into account the width of the dike\n",
    "W0 = Wty[Xf_index]\n",
    "print(\"Xf =\", Xf, \"[km]\",\"W0=\",W0)\n",
    "#plotting Xf\n",
    "plt.plot(Xf,W0,'k*',markersize=18)\n",
    "#-------------------------------\n",
    "#ploting the Xf corresponding SDR\n",
    "# finding the which particle/SDR closest to the right of Xf\n",
    "for i in range(np.size(list_tip_x)):\n",
    "    if(list_tip_x[i] < Xf):  # loop from the rightmost tip to axis\n",
    "        print(\"use number of SDR equal to\", i-1, \"at Xf\")\n",
    "        Xf_SDRindex = i-1\n",
    "        break\n",
    "#plt.plot(list_data_x[Xf_SDRindex][:],list_data_y[Xf_SDRindex][:],'r-.',linewidth=3)\n",
    "dist_Xf_SDRtip = list_data_x[Xf_SDRindex][0] - Xf\n",
    "# find the time difference in time steps between closest SDR tip to Xf\n",
    "dist_per_Myr = 10 #km\n",
    "delta_timestep_Xf_SDRtip = dist_Xf_SDRtip / dist_per_Myr * yr_in_Myr / dt_step \n",
    "#find the corresponding time step for the SDR when it was at Xf\n",
    "step_Xf = int(time_steps - np.ceil(delta_timestep_Xf_SDRtip))\n",
    "# fetch useful data at corresponding time\n",
    "if Xf_SDRindex+1 < 10:\n",
    "    particle_number_Xf_SDRindex=(\"0\"+str(Xf_SDRindex+1))\n",
    "else:\n",
    "    particle_number_Xf_SDRindex=(str(Xf_SDRindex+1))\n",
    "FLAC_data = open(FLAC_file_path+\"/particles_\"+particle_number_Xf_SDRindex+\".0\",'rb')\n",
    "data = np.fromfile(FLAC_data, dtype=np.single)\n",
    "FLAC_data.close()\n",
    "data_matrix = data.reshape((num_particles, 2, time_steps), order='F')\n",
    "data_matrix_x = data_matrix[:,0,:]\n",
    "data_matrix_y = data_matrix[:,1,:]\n",
    "print(\"the corresponding time step for the\", particle_number_Xf_SDRindex, 'th SDR is', step_Xf)\n",
    "the_SDR_x = data_matrix_x[:,step_Xf]\n",
    "the_SDR_y = data_matrix_y[:,step_Xf]\n",
    "#plotting the SDR corresponding to Xf\n",
    "plt.plot(the_SDR_x,the_SDR_y,'k-.',linewidth=3)\n",
    "#-------------------------------\n",
    "# finding phi for THE SDR\n",
    "phi = math.degrees(math.atan(np.gradient(the_SDR_y,the_SDR_x)[0]))\n",
    "print(\"the angle phi at Xf equals \", phi)\n",
    "\n",
    "# ------------------------------------------\n",
    "# calculating Te, hd based on Xf, gamma, phi\n",
    "# ------------------------------------------\n",
    "\n",
    "# model parameters\n",
    "gamma = abs(W0) / math.tan(math.radians(phi))\n",
    "\n",
    "#finding Te from Xf and gamma\n",
    "#parameter setup\n",
    "# 1. initialization/ parameter input\n",
    "E = 7.5*10**10 # Young's modulus [Pa]\n",
    "g = 10 # gravitational acc [m/s**2]\n",
    "mu = 0.25 # poisson's ratio\n",
    "delrhoC = 200 # for pure lava [kg/m^3]\n",
    "delrhoD = 200 # density difference between solidified and fluid dike\n",
    "\n",
    "Xf_m = Xf * 1000 #convert km to meters\n",
    "alpha_xf = 2.0 * Xf_m / math.pi  #[m]\n",
    "kappa = (E / (3 * delrhoC * g * (1 - mu**2)))**0.25 #coeficient between alpha_xf and Te_xf**0.75 [m] \n",
    "Te_xf = (alpha_xf / kappa)**(4.0/3.0) #[m]\n",
    "Te_xf_km = Te_xf/1000.\n",
    "coeff  = 2 * delrhoD / delrhoC**0.75 * (E / (3 * g * (1 - mu**2)))**(-0.25)\n",
    "     \n",
    "# Te from gamma\n",
    "Ws = abs(W0)\n",
    "dip = phi\n",
    "alpha_ratio = 2 * (Ws / math.tan(math.radians((dip))) / (1 + math.exp(-math.pi / 2))) *1000\n",
    "Te_ratio = (alpha_ratio / kappa)**(4.0/3.0) #[m]\n",
    "Te_ratio_km = Te_ratio/1000.\n",
    "# calulate Hd using phi and W\n",
    "Te_avg = 0.5 * (Te_xf + Te_ratio)\n",
    "Te_avg_km = 0.5 * (Te_xf_km + Te_ratio_km)\n",
    "hd = math.tan(math.radians(phi)) / coeff * Te_avg**0.75\n",
    "hd_km = hd/1000.\n",
    "Te_dw = 12500\n",
    "Te_final_avg = 0.5*(Te_avg + Te_dw)\n",
    "#<>\n",
    "down_offset = -3\n",
    "hori_offset = 22\n",
    "text_fontsize = 16\n",
    "plt.text(xmax-100+hori_offset+15, ymax-4+down_offset, r'$X_f = {:.1f} km;$'.format(Xf), fontsize=text_fontsize)\n",
    "plt.text(xmax-100+hori_offset+15, ymax-8+down_offset, r'$W_0 = {:.1f} km;$'.format(abs(W0)), fontsize=text_fontsize)\n",
    "plt.text(xmax-100+hori_offset+15, ymax-12+down_offset, r'$\\phi = {:.1f}^o;$'.format(phi), fontsize=text_fontsize)\n",
    "#plt.text(xmax-70, ymax-4, \"$Te$ $_Xf = {:.1f} km;$\".format(Te_xf/1000), fontsize=22)\n",
    "plt.text(xmax-70+hori_offset+7, ymax-4+down_offset, \"$Te_{X_f} = %.1f km;$\" %Te_xf_km, fontsize=text_fontsize)\n",
    "plt.text(xmax-70+hori_offset+7, ymax-8+down_offset, \"$Te_\\gamma = %.1f km;$\" %Te_ratio_km, fontsize=text_fontsize)\n",
    "plt.text(xmax-70+hori_offset+7, ymax-12+down_offset, \"$Te_{avg} = %.1f km;$\" %Te_avg_km, fontsize=text_fontsize)\n",
    "plt.text(xmax-40+hori_offset, ymax-4+down_offset, \"$H_d = %.1f km;$\" %hd_km, fontsize=text_fontsize)\n",
    "#plt.text(xmax-100, ymax-10, r'$\\phi = {:.1f}^o;$'.format(phi), fontsize=16)\n",
    "#plt.text(xmax-25, ymin, r'$\\sum_{i=0}^\\infty x_i$', fontsize=12)\n",
    "\n",
    "# for final PLOTING parameters\n",
    "import matplotlib\n",
    "matplotlib.rc('xtick', labelsize=16) \n",
    "matplotlib.rc('ytick', labelsize=16)\n",
    "#plt.title(\"dw(x) during 20 kyrs for Newtonian EVP T1800 Hc=5 km\",fontsize=20)\n",
    "#plt.xlabel(\"Off-axis distance [km]\",fontsize=16)\n",
    "#plt.ylabel(\"Thickness\\n[km]\",fontsize=16)\n",
    "\n",
    "plt.show()\n",
    "fig.savefig(resources_path+'nonNewtonian_EVP-thermal-BTC900-plag-mantle-dike-crust-newtherm-tracer_16Myr_N_start_SDR5.pdf', dpi=300)"
   ]
  },
  {
   "cell_type": "code",
   "execution_count": 10,
   "metadata": {},
   "outputs": [
    {
     "name": "stdout",
     "output_type": "stream",
     "text": [
      "Xf = 108.6 km; W0 = -8.9 km; phi = 12.9 degrees;\n",
      "Te_Xf = 11.97 km; Te_gamma= 10.90 km; Te_avg= 11.4 km;\n",
      "hd = 7.65 km\n"
     ]
    }
   ],
   "source": [
    "print(\"Xf = {:.1f} km;\".format(Xf), \"W0 = {:.1f} km;\".format(W0), \"phi = {:.1f} degrees;\".format(phi))\n",
    "print(\"Te_Xf = {:.2f} km;\".format(Te_xf/1000),\"Te_gamma= {:.2f} km;\".format(Te_ratio/1000),\n",
    "      \"Te_avg= {:.1f} km;\".format(Te_avg/1000))\n",
    "print(\"hd = {:.2f} km\".format(hd/1000))"
   ]
  },
  {
   "cell_type": "code",
   "execution_count": null,
   "metadata": {
    "collapsed": true
   },
   "outputs": [],
   "source": []
  },
  {
   "cell_type": "code",
   "execution_count": null,
   "metadata": {
    "collapsed": true
   },
   "outputs": [],
   "source": []
  }
 ],
 "metadata": {
  "kernelspec": {
   "display_name": "Python 3",
   "language": "python",
   "name": "python3"
  },
  "language_info": {
   "codemirror_mode": {
    "name": "ipython",
    "version": 3
   },
   "file_extension": ".py",
   "mimetype": "text/x-python",
   "name": "python",
   "nbconvert_exporter": "python",
   "pygments_lexer": "ipython3",
   "version": "3.5.3"
  }
 },
 "nbformat": 4,
 "nbformat_minor": 2
}
